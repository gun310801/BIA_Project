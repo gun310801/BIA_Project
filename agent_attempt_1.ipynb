{
 "cells": [
  {
   "cell_type": "code",
   "execution_count": 1,
   "metadata": {},
   "outputs": [],
   "source": [
    "import os\n",
    "from dotenv import load_dotenv\n",
    "load_dotenv('key.env')  \n",
    "\n",
    "key_string = os.getenv('open_ai_API_Key')"
   ]
  },
  {
   "cell_type": "code",
   "execution_count": 2,
   "metadata": {},
   "outputs": [
    {
     "name": "stderr",
     "output_type": "stream",
     "text": [
      "/Users/gunik/anaconda3/lib/python3.11/site-packages/IPython/core/interactiveshell.py:3526: LangChainDeprecationWarning: As of langchain-core 0.3.0, LangChain uses pydantic v2 internally. The langchain.pydantic_v1 module was a compatibility shim for pydantic v1, and should no longer be used. Please update the code to import from Pydantic directly.\n",
      "\n",
      "For example, replace imports like: `from langchain.pydantic_v1 import BaseModel`\n",
      "with: `from pydantic import BaseModel`\n",
      "or the v1 compatibility namespace if you are working in a code base that has not been fully upgraded to pydantic 2 yet. \tfrom pydantic.v1 import BaseModel\n",
      "\n",
      "  exec(code_obj, self.user_global_ns, self.user_ns)\n"
     ]
    }
   ],
   "source": [
    "from langchain import hub\n",
    "from langchain.agents import AgentExecutor, create_tool_calling_agent, create_structured_chat_agent\n",
    "from langchain.pydantic_v1 import BaseModel, Field\n",
    "from langchain_core.tools import StructuredTool, Tool\n",
    "from langchain_openai import ChatOpenAI\n",
    "\n",
    "from langchain.tools import tool"
   ]
  },
  {
   "cell_type": "code",
   "execution_count": 3,
   "metadata": {},
   "outputs": [],
   "source": [
    "class Extract_toolArgs(BaseModel):\n",
    "    a: str = Field(description=\"Company name\")\n",
    "    b: str = Field(description=\"item\")\n",
    "    c: str = Field(description=\"Year_1\")\n",
    "    d: str = Field(description=\"Year_2\")\n"
   ]
  },
  {
   "cell_type": "code",
   "execution_count": 4,
   "metadata": {},
   "outputs": [],
   "source": [
    "years  = [2014,2015,2016,2017,2018, 2019, 2020, 2021, 2022, 2023, 2024]"
   ]
  },
  {
   "cell_type": "code",
   "execution_count": 15,
   "metadata": {},
   "outputs": [],
   "source": [
    "# class GrowthToolArgs(BaseModel):\n",
    "#     sales_data : list = Field(description=\"list of dictionaries with keys as year and net sales data point as values\")\n",
    "from typing import List, Dict\n",
    "\n",
    "class GrowthToolArgs(BaseModel):\n",
    "    sales_data: list[dict[int, int]] = Field(description=\"List of dictionaries with year as key and net sales as value\")\n",
    "\n"
   ]
  },
  {
   "cell_type": "code",
   "execution_count": 25,
   "metadata": {},
   "outputs": [],
   "source": [
    "import json\n",
    "@tool(args_schema=Extract_toolArgs)\n",
    "def Extract_Tool(a: str, b: str, c:str, d:str) -> list[dict[int, int]]:\n",
    "    \"\"\"extracts specific data for a company from Year_1 to Year_2.\"\"\"\n",
    "    with open(\"data_soo.json\",\"r\") as json_file:\n",
    "        data = json.load(json_file)\n",
    "    \n",
    "    a = a.upper()\n",
    "    b = b.lower()\n",
    "    json_data = next(item for item in data[a] if item[\"Item\"] == b)\n",
    "    \n",
    "    cash_data = []\n",
    "    \n",
    "    # Ensure c and d represent years in the correct order\n",
    "    if int(c) > int(d):\n",
    "        c, d = d, c\n",
    "    \n",
    "    for year in range(int(c), int(d) + 1):\n",
    "        value = json_data.get(str(year))\n",
    "        if value is not None:\n",
    "            cash_data.append({year: value})\n",
    "    \n",
    "    if len(cash_data) == 0:\n",
    "        raise ValueError(f\"Data for the years {c} to {d} is not available.\")\n",
    "    \n",
    "    return cash_data\n",
    "\n",
    "\n"
   ]
  },
  {
   "cell_type": "code",
   "execution_count": 8,
   "metadata": {},
   "outputs": [],
   "source": [
    "@tool(args_schema=GrowthToolArgs)\n",
    "def Growth_Tool(sales_data:list[str:int]) -> list:\n",
    "    \"\"\"\n",
    "    Calculates year-on-year (YoY) growth for 'Net Sales' for a specific company. This function receives a list of dictionaries as data,\n",
    "    where the key is year and value is the data point. \n",
    "    \n",
    "    The tool automatically fetches data points of corresponding year and computes the\n",
    "    percentage growth for that year compared to the previous year.\n",
    "    \n",
    "    \n",
    "    Arguments:\n",
    "    - sales_data: [{<year1>: <net sales1>, <year2>: <net sales2>... }]\n",
    "\n",
    "    \"\"\"\n",
    "    # Hardcode the item to \"Net Sales\"\n",
    "    # item = \"Net sales\"\n",
    "    \n",
    "    # # Call Extract_Tool to get sales data\n",
    "    # try:\n",
    "    #     sales_data = Extract_Tool(a=company, b=item, c=year_1, d=year_2)\n",
    "    # except ValueError as e:\n",
    "    #     return str(e)\n",
    "    \n",
    "    # Ensure there is sufficient data for year-on-year calculation\n",
    "    if len(sales_data) < 2:\n",
    "        return \"Not enough data to calculate year-on-year sales growth.\"\n",
    "    \n",
    "    # Calculate YoY growth\n",
    "    yoy_growth = []\n",
    "    for i in sales_data:\n",
    "        # Get the year and current year's sales from the dictionary\n",
    "        year = list(i.keys())[0]  # Assuming each dictionary has one key-value pair\n",
    "        year = int(year)  # Convert year to an integer\n",
    "        current_year_sales = i[year]\n",
    "\n",
    "        previous_year = str(int(year) - 1)\n",
    "        \n",
    "        try:\n",
    "            # Find the previous year's data in the sales data\n",
    "            previous_year_sales = next(d[previous_year] for d in sales_data if previous_year in d)\n",
    "            growth = ((current_year_sales - previous_year_sales) / previous_year_sales) * 100\n",
    "            yoy_growth.append(f\"Year {year}: {growth:.2f}%\")\n",
    "        except StopIteration:\n",
    "            print(f\"No data for previous year {previous_year}, skipping year {year}\")\n",
    "            continue\n",
    "\n",
    "\n",
    "    # for i in sales_data:\n",
    "    #     current_year_sales = i.value()\n",
    "    #     previous_year = int(i.key() - 1)\n",
    "    #     try:\n",
    "    #         previous_year_sales = previous_year.value()\n",
    "    #         growth = ((current_year_sales - previous_year_sales) / previous_year_sales) * 100\n",
    "    #         yoy_growth.append(f\"Year {i}: {growth:.2f}%\")\n",
    "\n",
    "    #     except KeyError:\n",
    "    #         print('here')\n",
    "    #         continue\n",
    "        \n",
    "    # for i in range(1, len(sales_data)):\n",
    "    #     previous_year_sales = sales_data[i - 1]\n",
    "    #     current_year_sales = sales_data[i]\n",
    "    #     if previous_year_sales is None or current_year_sales is None:\n",
    "    #         yoy_growth.append(f\"Year {start_year + i}: Data missing\")\n",
    "    #     else:\n",
    "    #         growth = ((current_year_sales - previous_year_sales) / previous_year_sales) * 100\n",
    "    #         yoy_growth.append(f\"Year {start_year + i}: {growth:.2f}%\")\n",
    "    \n",
    "    return \"\\n\".join(yoy_growth)\n"
   ]
  },
  {
   "cell_type": "code",
   "execution_count": 17,
   "metadata": {},
   "outputs": [],
   "source": [
    "def Growth_Tool(sales_data: list[dict[int, float]]) -> list:\n",
    "    \"\"\"\n",
    "    Calculates year-on-year (YoY) growth for 'Net Sales' for a specific company. This function receives a list of dictionaries as data,\n",
    "    where the key is year and value is the net sales data point. \n",
    "    \n",
    "    The tool automatically fetches data points of the corresponding year and computes the\n",
    "    percentage growth for that year compared to the previous year.\n",
    "\n",
    "    Arguments:\n",
    "    - sales_data: [{<year1>: <net sales1>, <year2>: <net sales2>, ...}]\n",
    "    \"\"\"\n",
    "    if len(sales_data) < 2:\n",
    "        return \"Not enough data to calculate year-on-year sales growth.\"\n",
    "    \n",
    "    # Sort the data by year to ensure correct order for calculations\n",
    "    sales_data_sorted = sorted(sales_data, key=lambda x: list(x.keys())[0])\n",
    "    \n",
    "    yoy_growth = []\n",
    "    \n",
    "    for i in range(1, len(sales_data_sorted)):  # Start from the second year\n",
    "        current_year_data = sales_data_sorted[i]\n",
    "        previous_year_data = sales_data_sorted[i - 1]\n",
    "        \n",
    "        # Extract the year and sales data\n",
    "        current_year = list(current_year_data.keys())[0]\n",
    "        previous_year = list(previous_year_data.keys())[0]\n",
    "        \n",
    "        current_year_sales = current_year_data[current_year]\n",
    "        previous_year_sales = previous_year_data[previous_year]\n",
    "        \n",
    "        # Calculate the YoY growth\n",
    "        growth = ((current_year_sales - previous_year_sales) / previous_year_sales) * 100\n",
    "        yoy_growth.append(f\"Year {current_year}: {growth:.2f}%\")\n",
    "    \n",
    "    return yoy_growth"
   ]
  },
  {
   "cell_type": "code",
   "execution_count": 18,
   "metadata": {},
   "outputs": [],
   "source": [
    "tools = [Extract_Tool,Growth_Tool]"
   ]
  },
  {
   "cell_type": "code",
   "execution_count": 24,
   "metadata": {},
   "outputs": [],
   "source": [
    "# class CalculateKpIs(BaseModel):\n",
    "#     a: str = Field(description=\"Company name\")\n",
    "#     b: str = Field(description=\"item\")\n",
    "#     c: list = Field(description=\"list of revenue data points\")\n",
    "\n",
    "# @tool(args_schema=CalculateKpIs)\n",
    "# def CalculateKpIs(a: str, b: str, c:list) -> list:\n",
    "#     \"\"\"calculates kpis according to company and item name\"\"\""
   ]
  },
  {
   "cell_type": "code",
   "execution_count": 19,
   "metadata": {},
   "outputs": [],
   "source": [
    "llm = ChatOpenAI(model=\"gpt-4o\", openai_api_key=key_string)"
   ]
  },
  {
   "cell_type": "code",
   "execution_count": 20,
   "metadata": {},
   "outputs": [
    {
     "name": "stderr",
     "output_type": "stream",
     "text": [
      "/Users/gunik/anaconda3/lib/python3.11/site-packages/langsmith/client.py:261: LangSmithMissingAPIKeyWarning: API key must be provided when using hosted LangSmith API\n",
      "  warnings.warn(\n"
     ]
    }
   ],
   "source": [
    "prompt = hub.pull(\"hwchase17/openai-tools-agent\")"
   ]
  },
  {
   "cell_type": "code",
   "execution_count": 21,
   "metadata": {},
   "outputs": [],
   "source": [
    "# from langchain.prompts import PromptTemplate\n",
    "\n",
    "# prompt = PromptTemplate(\n",
    "#     template=\"\"\"\n",
    "# You are an AI assistant skilled in calling tools to perform calculations and answer questions.\n",
    "# Here are the tools you can use:\n",
    "# {tool_descriptions}\n",
    "\n",
    "# When asked a question, decide which tool to use and call it appropriately.\n",
    "# Always respond with your reasoning and the final answer.\n",
    "\n",
    "# Use the following format:\n",
    "# Thought: I should use [Tool Name]\n",
    "# Action: [Tool Name] <arguments>\n",
    "# Observation: <output of the tool>\n",
    "\n",
    "# If no tools are needed, provide a direct answer.\n",
    "\n",
    "# {agent_scratchpad}\n",
    "# \"\"\",\n",
    "#     input_variables=[\"tool_descriptions\", \"agent_scratchpad\"],\n",
    "# )\n"
   ]
  },
  {
   "cell_type": "code",
   "execution_count": 22,
   "metadata": {},
   "outputs": [
    {
     "name": "stdout",
     "output_type": "stream",
     "text": [
      "ChatPromptTemplate(input_variables=['agent_scratchpad', 'input'], optional_variables=['chat_history'], input_types={'chat_history': list[typing.Annotated[typing.Union[typing.Annotated[langchain_core.messages.ai.AIMessage, Tag(tag='ai')], typing.Annotated[langchain_core.messages.human.HumanMessage, Tag(tag='human')], typing.Annotated[langchain_core.messages.chat.ChatMessage, Tag(tag='chat')], typing.Annotated[langchain_core.messages.system.SystemMessage, Tag(tag='system')], typing.Annotated[langchain_core.messages.function.FunctionMessage, Tag(tag='function')], typing.Annotated[langchain_core.messages.tool.ToolMessage, Tag(tag='tool')], typing.Annotated[langchain_core.messages.ai.AIMessageChunk, Tag(tag='AIMessageChunk')], typing.Annotated[langchain_core.messages.human.HumanMessageChunk, Tag(tag='HumanMessageChunk')], typing.Annotated[langchain_core.messages.chat.ChatMessageChunk, Tag(tag='ChatMessageChunk')], typing.Annotated[langchain_core.messages.system.SystemMessageChunk, Tag(tag='SystemMessageChunk')], typing.Annotated[langchain_core.messages.function.FunctionMessageChunk, Tag(tag='FunctionMessageChunk')], typing.Annotated[langchain_core.messages.tool.ToolMessageChunk, Tag(tag='ToolMessageChunk')]], FieldInfo(annotation=NoneType, required=True, discriminator=Discriminator(discriminator=<function _get_type at 0x109bec9a0>, custom_error_type=None, custom_error_message=None, custom_error_context=None))]], 'agent_scratchpad': list[typing.Annotated[typing.Union[typing.Annotated[langchain_core.messages.ai.AIMessage, Tag(tag='ai')], typing.Annotated[langchain_core.messages.human.HumanMessage, Tag(tag='human')], typing.Annotated[langchain_core.messages.chat.ChatMessage, Tag(tag='chat')], typing.Annotated[langchain_core.messages.system.SystemMessage, Tag(tag='system')], typing.Annotated[langchain_core.messages.function.FunctionMessage, Tag(tag='function')], typing.Annotated[langchain_core.messages.tool.ToolMessage, Tag(tag='tool')], typing.Annotated[langchain_core.messages.ai.AIMessageChunk, Tag(tag='AIMessageChunk')], typing.Annotated[langchain_core.messages.human.HumanMessageChunk, Tag(tag='HumanMessageChunk')], typing.Annotated[langchain_core.messages.chat.ChatMessageChunk, Tag(tag='ChatMessageChunk')], typing.Annotated[langchain_core.messages.system.SystemMessageChunk, Tag(tag='SystemMessageChunk')], typing.Annotated[langchain_core.messages.function.FunctionMessageChunk, Tag(tag='FunctionMessageChunk')], typing.Annotated[langchain_core.messages.tool.ToolMessageChunk, Tag(tag='ToolMessageChunk')]], FieldInfo(annotation=NoneType, required=True, discriminator=Discriminator(discriminator=<function _get_type at 0x109bec9a0>, custom_error_type=None, custom_error_message=None, custom_error_context=None))]]}, partial_variables={'chat_history': []}, metadata={'lc_hub_owner': 'hwchase17', 'lc_hub_repo': 'openai-tools-agent', 'lc_hub_commit_hash': 'c18672812789a3b9697656dd539edf0120285dcae36396d0b548ae42a4ed66f5'}, messages=[SystemMessagePromptTemplate(prompt=PromptTemplate(input_variables=[], input_types={}, partial_variables={}, template='You are a helpful assistant'), additional_kwargs={}), MessagesPlaceholder(variable_name='chat_history', optional=True), HumanMessagePromptTemplate(prompt=PromptTemplate(input_variables=['input'], input_types={}, partial_variables={}, template='{input}'), additional_kwargs={}), MessagesPlaceholder(variable_name='agent_scratchpad')])\n"
     ]
    }
   ],
   "source": [
    "from pprint import pprint\n",
    "pprint(prompt)"
   ]
  },
  {
   "cell_type": "code",
   "execution_count": 23,
   "metadata": {},
   "outputs": [],
   "source": [
    "agent = create_tool_calling_agent(\n",
    "    llm=llm,  # Language model to use\n",
    "    tools=tools,  # List of tools available to the agent\n",
    "    prompt=prompt,  # Prompt template to guide the agent's responses\n",
    ")"
   ]
  },
  {
   "cell_type": "code",
   "execution_count": 24,
   "metadata": {},
   "outputs": [
    {
     "ename": "AttributeError",
     "evalue": "'function' object has no attribute 'get'",
     "output_type": "error",
     "traceback": [
      "\u001b[0;31m---------------------------------------------------------------------------\u001b[0m",
      "\u001b[0;31mAttributeError\u001b[0m                            Traceback (most recent call last)",
      "Cell \u001b[0;32mIn[24], line 1\u001b[0m\n\u001b[0;32m----> 1\u001b[0m agent_executor \u001b[38;5;241m=\u001b[39m AgentExecutor\u001b[38;5;241m.\u001b[39mfrom_agent_and_tools(\n\u001b[1;32m      2\u001b[0m     agent\u001b[38;5;241m=\u001b[39magent,  \u001b[38;5;66;03m# The agent to execute\u001b[39;00m\n\u001b[1;32m      3\u001b[0m     tools\u001b[38;5;241m=\u001b[39mtools,  \u001b[38;5;66;03m# List of tools available to the agent\u001b[39;00m\n\u001b[1;32m      4\u001b[0m     verbose\u001b[38;5;241m=\u001b[39m\u001b[38;5;28;01mTrue\u001b[39;00m,  \u001b[38;5;66;03m# Enable verbose logging\u001b[39;00m\n\u001b[1;32m      5\u001b[0m     handle_parsing_errors\u001b[38;5;241m=\u001b[39m\u001b[38;5;28;01mTrue\u001b[39;00m,  \u001b[38;5;66;03m# Handle parsing errors gracefully\u001b[39;00m\n\u001b[1;32m      6\u001b[0m )\n",
      "File \u001b[0;32m~/anaconda3/lib/python3.11/site-packages/langchain/agents/agent.py:1119\u001b[0m, in \u001b[0;36mAgentExecutor.from_agent_and_tools\u001b[0;34m(cls, agent, tools, callbacks, **kwargs)\u001b[0m\n\u001b[1;32m   1100\u001b[0m \u001b[38;5;129m@classmethod\u001b[39m\n\u001b[1;32m   1101\u001b[0m \u001b[38;5;28;01mdef\u001b[39;00m \u001b[38;5;21mfrom_agent_and_tools\u001b[39m(\n\u001b[1;32m   1102\u001b[0m     \u001b[38;5;28mcls\u001b[39m,\n\u001b[0;32m   (...)\u001b[0m\n\u001b[1;32m   1106\u001b[0m     \u001b[38;5;241m*\u001b[39m\u001b[38;5;241m*\u001b[39mkwargs: Any,\n\u001b[1;32m   1107\u001b[0m ) \u001b[38;5;241m-\u001b[39m\u001b[38;5;241m>\u001b[39m AgentExecutor:\n\u001b[1;32m   1108\u001b[0m \u001b[38;5;250m    \u001b[39m\u001b[38;5;124;03m\"\"\"Create from agent and tools.\u001b[39;00m\n\u001b[1;32m   1109\u001b[0m \n\u001b[1;32m   1110\u001b[0m \u001b[38;5;124;03m    Args:\u001b[39;00m\n\u001b[0;32m   (...)\u001b[0m\n\u001b[1;32m   1117\u001b[0m \u001b[38;5;124;03m        AgentExecutor: Agent executor object.\u001b[39;00m\n\u001b[1;32m   1118\u001b[0m \u001b[38;5;124;03m    \"\"\"\u001b[39;00m\n\u001b[0;32m-> 1119\u001b[0m     \u001b[38;5;28;01mreturn\u001b[39;00m \u001b[38;5;28mcls\u001b[39m(\n\u001b[1;32m   1120\u001b[0m         agent\u001b[38;5;241m=\u001b[39magent,\n\u001b[1;32m   1121\u001b[0m         tools\u001b[38;5;241m=\u001b[39mtools,\n\u001b[1;32m   1122\u001b[0m         callbacks\u001b[38;5;241m=\u001b[39mcallbacks,\n\u001b[1;32m   1123\u001b[0m         \u001b[38;5;241m*\u001b[39m\u001b[38;5;241m*\u001b[39mkwargs,\n\u001b[1;32m   1124\u001b[0m     )\n",
      "File \u001b[0;32m~/anaconda3/lib/python3.11/site-packages/langchain_core/load/serializable.py:125\u001b[0m, in \u001b[0;36mSerializable.__init__\u001b[0;34m(self, *args, **kwargs)\u001b[0m\n\u001b[1;32m    123\u001b[0m \u001b[38;5;28;01mdef\u001b[39;00m \u001b[38;5;21m__init__\u001b[39m(\u001b[38;5;28mself\u001b[39m, \u001b[38;5;241m*\u001b[39margs: Any, \u001b[38;5;241m*\u001b[39m\u001b[38;5;241m*\u001b[39mkwargs: Any) \u001b[38;5;241m-\u001b[39m\u001b[38;5;241m>\u001b[39m \u001b[38;5;28;01mNone\u001b[39;00m:\n\u001b[1;32m    124\u001b[0m \u001b[38;5;250m    \u001b[39m\u001b[38;5;124;03m\"\"\"\"\"\"\u001b[39;00m\n\u001b[0;32m--> 125\u001b[0m     \u001b[38;5;28msuper\u001b[39m()\u001b[38;5;241m.\u001b[39m\u001b[38;5;21m__init__\u001b[39m(\u001b[38;5;241m*\u001b[39margs, \u001b[38;5;241m*\u001b[39m\u001b[38;5;241m*\u001b[39mkwargs)\n",
      "    \u001b[0;31m[... skipping hidden 1 frame]\u001b[0m\n",
      "File \u001b[0;32m~/anaconda3/lib/python3.11/site-packages/pydantic/_internal/_validators.py:45\u001b[0m, in \u001b[0;36msequence_validator\u001b[0;34m(input_value, validator)\u001b[0m\n\u001b[1;32m     42\u001b[0m \u001b[38;5;28;01mif\u001b[39;00m value_type \u001b[38;5;129;01mis\u001b[39;00m \u001b[38;5;28mtuple\u001b[39m:\n\u001b[1;32m     43\u001b[0m     input_value \u001b[38;5;241m=\u001b[39m \u001b[38;5;28mlist\u001b[39m(input_value)\n\u001b[0;32m---> 45\u001b[0m v_list \u001b[38;5;241m=\u001b[39m validator(input_value)\n\u001b[1;32m     47\u001b[0m \u001b[38;5;66;03m# the rest of the logic is just re-creating the original type from `v_list`\u001b[39;00m\n\u001b[1;32m     48\u001b[0m \u001b[38;5;28;01mif\u001b[39;00m value_type \u001b[38;5;129;01mis\u001b[39;00m \u001b[38;5;28mlist\u001b[39m:\n",
      "File \u001b[0;32m~/anaconda3/lib/python3.11/site-packages/langchain_core/tools/base.py:544\u001b[0m, in \u001b[0;36mBaseTool.raise_deprecation\u001b[0;34m(cls, values)\u001b[0m\n\u001b[1;32m    533\u001b[0m \u001b[38;5;129m@model_validator\u001b[39m(mode\u001b[38;5;241m=\u001b[39m\u001b[38;5;124m\"\u001b[39m\u001b[38;5;124mbefore\u001b[39m\u001b[38;5;124m\"\u001b[39m)\n\u001b[1;32m    534\u001b[0m \u001b[38;5;129m@classmethod\u001b[39m\n\u001b[1;32m    535\u001b[0m \u001b[38;5;28;01mdef\u001b[39;00m \u001b[38;5;21mraise_deprecation\u001b[39m(\u001b[38;5;28mcls\u001b[39m, values: \u001b[38;5;28mdict\u001b[39m) \u001b[38;5;241m-\u001b[39m\u001b[38;5;241m>\u001b[39m Any:\n\u001b[1;32m    536\u001b[0m \u001b[38;5;250m    \u001b[39m\u001b[38;5;124;03m\"\"\"Raise deprecation warning if callback_manager is used.\u001b[39;00m\n\u001b[1;32m    537\u001b[0m \n\u001b[1;32m    538\u001b[0m \u001b[38;5;124;03m    Args:\u001b[39;00m\n\u001b[0;32m   (...)\u001b[0m\n\u001b[1;32m    542\u001b[0m \u001b[38;5;124;03m        The validated values.\u001b[39;00m\n\u001b[1;32m    543\u001b[0m \u001b[38;5;124;03m    \"\"\"\u001b[39;00m\n\u001b[0;32m--> 544\u001b[0m     \u001b[38;5;28;01mif\u001b[39;00m values\u001b[38;5;241m.\u001b[39mget(\u001b[38;5;124m\"\u001b[39m\u001b[38;5;124mcallback_manager\u001b[39m\u001b[38;5;124m\"\u001b[39m) \u001b[38;5;129;01mis\u001b[39;00m \u001b[38;5;129;01mnot\u001b[39;00m \u001b[38;5;28;01mNone\u001b[39;00m:\n\u001b[1;32m    545\u001b[0m         warnings\u001b[38;5;241m.\u001b[39mwarn(\n\u001b[1;32m    546\u001b[0m             \u001b[38;5;124m\"\u001b[39m\u001b[38;5;124mcallback_manager is deprecated. Please use callbacks instead.\u001b[39m\u001b[38;5;124m\"\u001b[39m,\n\u001b[1;32m    547\u001b[0m             \u001b[38;5;167;01mDeprecationWarning\u001b[39;00m,\n\u001b[1;32m    548\u001b[0m             stacklevel\u001b[38;5;241m=\u001b[39m\u001b[38;5;241m6\u001b[39m,\n\u001b[1;32m    549\u001b[0m         )\n\u001b[1;32m    550\u001b[0m         values[\u001b[38;5;124m\"\u001b[39m\u001b[38;5;124mcallbacks\u001b[39m\u001b[38;5;124m\"\u001b[39m] \u001b[38;5;241m=\u001b[39m values\u001b[38;5;241m.\u001b[39mpop(\u001b[38;5;124m\"\u001b[39m\u001b[38;5;124mcallback_manager\u001b[39m\u001b[38;5;124m\"\u001b[39m, \u001b[38;5;28;01mNone\u001b[39;00m)\n",
      "\u001b[0;31mAttributeError\u001b[0m: 'function' object has no attribute 'get'"
     ]
    }
   ],
   "source": [
    "agent_executor = AgentExecutor.from_agent_and_tools(\n",
    "    agent=agent,  # The agent to execute\n",
    "    tools=tools,  # List of tools available to the agent\n",
    "    verbose=True,  # Enable verbose logging\n",
    "    handle_parsing_errors=True,  # Handle parsing errors gracefully\n",
    ")"
   ]
  },
  {
   "cell_type": "code",
   "execution_count": null,
   "metadata": {},
   "outputs": [
    {
     "ename": "NameError",
     "evalue": "name 'agent_executor' is not defined",
     "output_type": "error",
     "traceback": [
      "\u001b[0;31m---------------------------------------------------------------------------\u001b[0m",
      "\u001b[0;31mNameError\u001b[0m                                 Traceback (most recent call last)",
      "Cell \u001b[0;32mIn[13], line 1\u001b[0m\n\u001b[0;32m----> 1\u001b[0m response \u001b[38;5;241m=\u001b[39m agent_executor\u001b[38;5;241m.\u001b[39minvoke({\u001b[38;5;124m\"\u001b[39m\u001b[38;5;124minput\u001b[39m\u001b[38;5;124m\"\u001b[39m: \u001b[38;5;124m\"\u001b[39m\u001b[38;5;124m extract net sales of Apple 2019 to 2023 \u001b[39m\u001b[38;5;124m\"\u001b[39m})\n",
      "\u001b[0;31mNameError\u001b[0m: name 'agent_executor' is not defined"
     ]
    }
   ],
   "source": [
    "response = agent_executor.invoke({\"input\": \" extract net sales of Apple 2019 to 2023 \"})"
   ]
  },
  {
   "cell_type": "code",
   "execution_count": null,
   "metadata": {},
   "outputs": [
    {
     "name": "stdout",
     "output_type": "stream",
     "text": [
      "{'input': ' extract net sales of APPLE from 2019 to 2023', 'output': 'The net sales for Apple from 2019 to 2023 are as follows (in million USD):\\n\\n- 2019: $260,174 million\\n- 2020: $274,515 million\\n- 2021: $365,817 million\\n- 2022: $394,328 million\\n- 2023: $383,285 million'}\n"
     ]
    }
   ],
   "source": [
    "print(response)"
   ]
  },
  {
   "cell_type": "code",
   "execution_count": null,
   "metadata": {},
   "outputs": [],
   "source": []
  }
 ],
 "metadata": {
  "kernelspec": {
   "display_name": "base",
   "language": "python",
   "name": "python3"
  },
  "language_info": {
   "codemirror_mode": {
    "name": "ipython",
    "version": 3
   },
   "file_extension": ".py",
   "mimetype": "text/x-python",
   "name": "python",
   "nbconvert_exporter": "python",
   "pygments_lexer": "ipython3",
   "version": "3.11.5"
  }
 },
 "nbformat": 4,
 "nbformat_minor": 2
}
