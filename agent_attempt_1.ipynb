{
 "cells": [
  {
   "cell_type": "code",
   "execution_count": 1,
   "metadata": {},
   "outputs": [],
   "source": [
    "import os\n",
    "from dotenv import load_dotenv\n",
    "load_dotenv('key.env')  \n",
    "\n",
    "key_string = os.getenv('open_ai_API_Key')"
   ]
  },
  {
   "cell_type": "code",
   "execution_count": 2,
   "metadata": {},
   "outputs": [
    {
     "name": "stderr",
     "output_type": "stream",
     "text": [
      "/Users/gunik/anaconda3/lib/python3.11/site-packages/IPython/core/interactiveshell.py:3526: LangChainDeprecationWarning: As of langchain-core 0.3.0, LangChain uses pydantic v2 internally. The langchain.pydantic_v1 module was a compatibility shim for pydantic v1, and should no longer be used. Please update the code to import from Pydantic directly.\n",
      "\n",
      "For example, replace imports like: `from langchain.pydantic_v1 import BaseModel`\n",
      "with: `from pydantic import BaseModel`\n",
      "or the v1 compatibility namespace if you are working in a code base that has not been fully upgraded to pydantic 2 yet. \tfrom pydantic.v1 import BaseModel\n",
      "\n",
      "  exec(code_obj, self.user_global_ns, self.user_ns)\n"
     ]
    }
   ],
   "source": [
    "from langchain import hub\n",
    "from langchain.agents import AgentExecutor, create_tool_calling_agent\n",
    "from langchain.pydantic_v1 import BaseModel, Field\n",
    "from langchain_core.tools import StructuredTool, Tool\n",
    "from langchain_openai import ChatOpenAI\n",
    "\n",
    "from langchain.tools import tool"
   ]
  },
  {
   "cell_type": "code",
   "execution_count": 3,
   "metadata": {},
   "outputs": [],
   "source": [
    "class Extract_toolArgs(BaseModel):\n",
    "    a: str = Field(description=\"Company name\")\n",
    "    b: str = Field(description=\"item\")\n",
    "    c: str = Field(description=\"Year_1\")\n",
    "    d: str = Field(description=\"Year_2\")\n"
   ]
  },
  {
   "cell_type": "code",
   "execution_count": 4,
   "metadata": {},
   "outputs": [],
   "source": [
    "years  = [2018, 2019, 2020, 2021, 2022, 2023, 2024]"
   ]
  },
  {
   "cell_type": "code",
   "execution_count": 13,
   "metadata": {},
   "outputs": [],
   "source": [
    "import json\n",
    "@tool(args_schema=Extract_toolArgs)\n",
    "def Extract_Tool(a: str, b: str, c:str, d:str) -> list:\n",
    "    \"\"\"extracts specific data for a company from Year_1 to Year_2.\"\"\"\n",
    "    with open(\"data_soo.json\",\"r\") as json_file:\n",
    "        data = json.load(json_file)\n",
    "    a = a.upper()\n",
    "    json_data = next(item for item in data[a] if item[\"Item\"] == b)\n",
    "    cash_data = []\n",
    "    if int(c) > int(d): c, d = d, c\n",
    "    for year in years:\n",
    "        if year >= int(c) and year <= int(d):\n",
    "            cash_data.append(json_data.get(str(year)))\n",
    "    # sales_year_1 = json_data.get(c)\n",
    "    # sales_year_2 = json_data.get(d)\n",
    "    if len(cash_data) == 0:\n",
    "        raise ValueError(f\"Data for the years {c} to {d} is not available.\")\n",
    "    \n",
    "    return cash_data\n",
    "\n",
    "tools = [Extract_Tool]\n"
   ]
  },
  {
   "cell_type": "code",
   "execution_count": 14,
   "metadata": {},
   "outputs": [],
   "source": [
    "# class CalculateKpIs(BaseModel):\n",
    "#     a: str = Field(description=\"Company name\")\n",
    "#     b: str = Field(description=\"item\")\n",
    "#     c: list = Field(description=\"list of revenue data points\")\n",
    "\n",
    "# @tool(args_schema=CalculateKpIs)\n",
    "# def CalculateKpIs(a: str, b: str, c:list) -> list:\n",
    "#     \"\"\"calculates kpis according to company and item name\"\"\""
   ]
  },
  {
   "cell_type": "code",
   "execution_count": 15,
   "metadata": {},
   "outputs": [],
   "source": [
    "llm = ChatOpenAI(model=\"gpt-4o\", openai_api_key=key_string)"
   ]
  },
  {
   "cell_type": "code",
   "execution_count": 16,
   "metadata": {},
   "outputs": [
    {
     "name": "stderr",
     "output_type": "stream",
     "text": [
      "/Users/gunik/anaconda3/lib/python3.11/site-packages/langsmith/client.py:261: LangSmithMissingAPIKeyWarning: API key must be provided when using hosted LangSmith API\n",
      "  warnings.warn(\n"
     ]
    }
   ],
   "source": [
    "prompt = hub.pull(\"hwchase17/openai-tools-agent\")"
   ]
  },
  {
   "cell_type": "code",
   "execution_count": 17,
   "metadata": {},
   "outputs": [],
   "source": [
    "agent = create_tool_calling_agent(\n",
    "    llm=llm,  # Language model to use\n",
    "    tools=tools,  # List of tools available to the agent\n",
    "    prompt=prompt,  # Prompt template to guide the agent's responses\n",
    ")"
   ]
  },
  {
   "cell_type": "code",
   "execution_count": 18,
   "metadata": {},
   "outputs": [],
   "source": [
    "agent_executor = AgentExecutor.from_agent_and_tools(\n",
    "    agent=agent,  # The agent to execute\n",
    "    tools=tools,  # List of tools available to the agent\n",
    "    verbose=True,  # Enable verbose logging\n",
    "    handle_parsing_errors=True,  # Handle parsing errors gracefully\n",
    ")"
   ]
  },
  {
   "cell_type": "code",
   "execution_count": 21,
   "metadata": {},
   "outputs": [
    {
     "name": "stdout",
     "output_type": "stream",
     "text": [
      "\n",
      "\n",
      "\u001b[1m> Entering new AgentExecutor chain...\u001b[0m\n",
      "\u001b[32;1m\u001b[1;3m\n",
      "Invoking: `Extract_Tool` with `{'a': 'Apple', 'b': 'Net sales', 'c': '2021', 'd': '2024'}`\n",
      "\n",
      "\n",
      "\u001b[0m\u001b[36;1m\u001b[1;3m[365817, 394328, 383285, 391035]\u001b[0m\u001b[32;1m\u001b[1;3mTo calculate the growth in net sales of Apple from 2021 to 2024, we can use the following formula for growth percentage:\n",
      "\n",
      "\\[\n",
      "\\text{Growth Percentage} = \\left(\\frac{\\text{Net Sales in 2024} - \\text{Net Sales in 2021}}{\\text{Net Sales in 2021}}\\right) \\times 100\n",
      "\\]\n",
      "\n",
      "Given the net sales:\n",
      "- 2021: $365,817 million\n",
      "- 2024: $391,035 million\n",
      "\n",
      "Plugging in the values:\n",
      "\n",
      "\\[\n",
      "\\text{Growth Percentage} = \\left(\\frac{391035 - 365817}{365817}\\right) \\times 100 \\approx 6.88\\%\n",
      "\\]\n",
      "\n",
      "The net sales of Apple grew by approximately 6.88% from 2021 to 2024.\u001b[0m\n",
      "\n",
      "\u001b[1m> Finished chain.\u001b[0m\n"
     ]
    }
   ],
   "source": [
    "response = agent_executor.invoke({\"input\": \"calculate growth in Net sales of apple from 2021 to 2024\"})"
   ]
  },
  {
   "cell_type": "code",
   "execution_count": 20,
   "metadata": {},
   "outputs": [
    {
     "name": "stdout",
     "output_type": "stream",
     "text": [
      "{'input': 'calculate Net sales of apple from 2021 to 2024', 'output': 'The Net Sales of Apple from 2021 to 2024 are as follows:\\n\\n- 2021: $365,817 million\\n- 2022: $394,328 million\\n- 2023: $383,285 million\\n- 2024: $391,035 million'}\n"
     ]
    }
   ],
   "source": [
    "print(response)"
   ]
  },
  {
   "cell_type": "code",
   "execution_count": null,
   "metadata": {},
   "outputs": [],
   "source": []
  }
 ],
 "metadata": {
  "kernelspec": {
   "display_name": "base",
   "language": "python",
   "name": "python3"
  },
  "language_info": {
   "codemirror_mode": {
    "name": "ipython",
    "version": 3
   },
   "file_extension": ".py",
   "mimetype": "text/x-python",
   "name": "python",
   "nbconvert_exporter": "python",
   "pygments_lexer": "ipython3",
   "version": "3.11.5"
  }
 },
 "nbformat": 4,
 "nbformat_minor": 2
}
