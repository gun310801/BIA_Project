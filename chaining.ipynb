{
 "cells": [
  {
   "cell_type": "code",
   "execution_count": 10,
   "metadata": {},
   "outputs": [],
   "source": [
    "import os\n",
    "from dotenv import load_dotenv\n",
    "load_dotenv('key.env')  \n",
    "\n",
    "key_string = os.getenv('open_ai_API_Key')"
   ]
  },
  {
   "cell_type": "code",
   "execution_count": 11,
   "metadata": {},
   "outputs": [],
   "source": [
    "import re\n",
    "from langchain.document_loaders import PyPDFLoader\n",
    "from langchain.chains import SequentialChain\n",
    "from langchain.prompts import PromptTemplate"
   ]
  },
  {
   "cell_type": "code",
   "execution_count": 12,
   "metadata": {},
   "outputs": [],
   "source": [
    "# Load PDF\n",
    "loader_1 = PyPDFLoader(\"10-Q4-2024-As-Filed.pdf\")\n",
    "document_1 = loader_1.load()\n",
    "loader_2 = PyPDFLoader(\"10-k-2022.pdf\")\n",
    "document_2 = loader_2.load()\n",
    "loader_3 = PyPDFLoader(\"10k-2020.pdf\")\n",
    "document_3 = loader_3.load()\n",
    "loader_4 = PyPDFLoader(\"10k-2018.pdf\")\n",
    "document_4 = loader_4.load()\n",
    "loader_5 = PyPDFLoader(\"10k-2016.pdf\")\n",
    "document_5 = loader_5.load()"
   ]
  },
  {
   "cell_type": "code",
   "execution_count": 13,
   "metadata": {},
   "outputs": [],
   "source": [
    "def page_finder(document):\n",
    "    # Initialize variables to store page numbers\n",
    "    start_page = None\n",
    "    end_page = None\n",
    "\n",
    "    # Find the page number where content starts with \"Item 8\"\n",
    "    for doc in document:\n",
    "        if doc.page_content.startswith(\"Item 8\"):\n",
    "            start_page = doc.metadata['page']\n",
    "            break  # Exit the loop after finding the first match\n",
    "\n",
    "    # Find the page number where content starts with \"Item 9\"\n",
    "    for doc in document:\n",
    "        if doc.page_content.startswith(\"Item 9\"):\n",
    "            end_page = doc.metadata['page']\n",
    "            break  # Exit the loop after finding the first match\n",
    "\n",
    "    # If either page is still None (should not happen if items are guaranteed)\n",
    "    if start_page is None or end_page is None:\n",
    "        raise ValueError(\"Could not find 'Item 8' or 'Item 9' in the document\")\n",
    "\n",
    "    return start_page, end_page\n",
    "\n",
    "\n",
    "def page_executor(document):\n",
    "    # Find the start and end pages\n",
    "    start_page, end_page = page_finder(document)\n",
    "\n",
    "    # Extract documents between the start and end pages\n",
    "    extracted_documents = [\n",
    "        doc for doc in document\n",
    "        if start_page <= doc.metadata['page'] < end_page\n",
    "    ]\n",
    "\n",
    "    return extracted_documents"
   ]
  },
  {
   "cell_type": "code",
   "execution_count": 14,
   "metadata": {},
   "outputs": [],
   "source": [
    "extract_2024 = page_executor(document_1)"
   ]
  },
  {
   "cell_type": "code",
   "execution_count": 15,
   "metadata": {},
   "outputs": [],
   "source": [
    "extract_2022 = page_executor(document_2)\n",
    "extract_2018 = page_executor(document_3)\n",
    "extract_2016 = page_executor(document_4)\n",
    "extract_2014 = page_executor(document_5)"
   ]
  },
  {
   "cell_type": "code",
   "execution_count": 30,
   "metadata": {},
   "outputs": [],
   "source": [
    "from langchain.chains import SequentialChain\n",
    "from langchain.prompts import PromptTemplate\n",
    "from langchain_openai import ChatOpenAI\n",
    "from langchain.chains import LLMChain\n",
    "from langchain.agents import AgentExecutor, Tool\n",
    "from langchain.agents import ZeroShotAgent\n",
    "\n",
    "# Define the system prompt\n",
    "extract_prompt = PromptTemplate(\n",
    "    input_variables=[\"document\"],\n",
    "    template=\"\"\"\n",
    "    The following is a section of a 10-K filing:\n",
    "    {document}\n",
    "\n",
    "    Extract the balance sheet, cashflow and shareholder's equity as a structured table. Include column names and all rows. Prepare different tables for balance sheet, cashflow and shareholder's equity\n",
    "    Provide the table as a JSON object.\n",
    "\n",
    "    strucutre the table as follows:\n",
    "    Item, Category, Subcategory, Date-1, Date-2, Date-3\n",
    "    \"\"\"\n",
    ")\n",
    "\n",
    "llm = ChatOpenAI(model=\"gpt-4o\",temperature=0.5, openai_api_key=key_string)\n",
    "\n",
    "# Define the first chain\n",
    "extract_chain = LLMChain(\n",
    "    llm=llm,\n",
    "    prompt=extract_prompt,\n",
    "    output_key=\"balance_sheet\",  # This key will pass to the next chain\n",
    ")\n",
    "\n",
    "# Define the second prompt\n",
    "convert_prompt = PromptTemplate(\n",
    "    input_variables=[\"balance_sheet\"],\n",
    "    template=\"\"\"\n",
    "    Convert the following balance sheet, cashflow and shareholder's equity JSON into a TSV format. Return only the TSV data. Separate the 3 tables with headers\n",
    "\n",
    "    JSON:\n",
    "    {balance_sheet}\n",
    "    \"\"\"\n",
    ")\n",
    "\n",
    "# Define the second chain\n",
    "convert_chain = LLMChain(\n",
    "    llm=llm,\n",
    "    prompt=convert_prompt,\n",
    "    output_key=\"csv_output\",\n",
    ")\n",
    "\n",
    "# Combine the chains\n",
    "sequential_chain = SequentialChain(\n",
    "    chains=[extract_chain, convert_chain],\n",
    "    input_variables=[\"document\"],\n",
    "    output_variables=[\"csv_output\"],\n",
    ")"
   ]
  },
  {
   "cell_type": "code",
   "execution_count": 27,
   "metadata": {},
   "outputs": [],
   "source": [
    "result = sequential_chain.run(document=extract_2024)"
   ]
  },
  {
   "cell_type": "code",
   "execution_count": 28,
   "metadata": {},
   "outputs": [
    {
     "name": "stdout",
     "output_type": "stream",
     "text": [
      "```plaintext\n",
      "BalanceSheet\n",
      "Item\tCategory\tSubcategory\tDate-1\tDate-2\tDate-3\n",
      "ASSETS\tCurrent assets\tCash and cash equivalents\t29,943\t29,965\t\n",
      "ASSETS\tCurrent assets\tMarketable securities\t35,228\t31,590\t\n",
      "ASSETS\tCurrent assets\tAccounts receivable, net\t33,410\t29,508\t\n",
      "ASSETS\tCurrent assets\tVendor non-trade receivables\t32,833\t31,477\t\n",
      "ASSETS\tCurrent assets\tInventories\t7,286\t6,331\t\n",
      "ASSETS\tCurrent assets\tOther current assets\t14,287\t14,695\t\n",
      "ASSETS\tCurrent assets\tTotal current assets\t152,987\t143,566\t\n",
      "ASSETS\tNon-current assets\tMarketable securities\t91,479\t100,544\t\n",
      "ASSETS\tNon-current assets\tProperty, plant and equipment, net\t45,680\t43,715\t\n",
      "ASSETS\tNon-current assets\tOther non-current assets\t74,834\t64,758\t\n",
      "ASSETS\tNon-current assets\tTotal non-current assets\t211,993\t209,017\t\n",
      "ASSETS\tTotal assets\t\t364,980\t352,583\t\n",
      "LIABILITIES AND SHAREHOLDERS’ EQUITY\tCurrent liabilities\tAccounts payable\t68,960\t62,611\t\n",
      "LIABILITIES AND SHAREHOLDERS’ EQUITY\tCurrent liabilities\tOther current liabilities\t78,304\t58,829\t\n",
      "LIABILITIES AND SHAREHOLDERS’ EQUITY\tCurrent liabilities\tDeferred revenue\t8,249\t8,061\t\n",
      "LIABILITIES AND SHAREHOLDERS’ EQUITY\tCurrent liabilities\tCommercial paper\t9,967\t5,985\t\n",
      "LIABILITIES AND SHAREHOLDERS’ EQUITY\tCurrent liabilities\tTerm debt\t10,912\t9,822\t\n",
      "LIABILITIES AND SHAREHOLDERS’ EQUITY\tCurrent liabilities\tTotal current liabilities\t176,392\t145,308\t\n",
      "LIABILITIES AND SHAREHOLDERS’ EQUITY\tNon-current liabilities\tTerm debt\t85,750\t95,281\t\n",
      "LIABILITIES AND SHAREHOLDERS’ EQUITY\tNon-current liabilities\tOther non-current liabilities\t45,888\t49,848\t\n",
      "LIABILITIES AND SHAREHOLDERS’ EQUITY\tNon-current liabilities\tTotal non-current liabilities\t131,638\t145,129\t\n",
      "LIABILITIES AND SHAREHOLDERS’ EQUITY\tTotal liabilities\t\t308,030\t290,437\t\n",
      "SHAREHOLDERS’ EQUITY\t\tCommon stock and additional paid-in capital\t83,276\t73,812\t\n",
      "SHAREHOLDERS’ EQUITY\t\tAccumulated deficit\t(19,154)\t(214)\t\n",
      "SHAREHOLDERS’ EQUITY\t\tAccumulated other comprehensive loss\t(7,172)\t(11,452)\t\n",
      "SHAREHOLDERS’ EQUITY\t\tTotal shareholders’ equity\t56,950\t62,146\t\n",
      "LIABILITIES AND SHAREHOLDERS’ EQUITY\tTotal liabilities and shareholders’ equity\t\t364,980\t352,583\t\n",
      "\n",
      "CashFlow\n",
      "Item\tCategory\tSubcategory\tDate-1\tDate-2\tDate-3\n",
      "Cash, cash equivalents, and restricted cash and cash equivalents, beginning balances\tOperating activities\t\t30,737\t24,977\t35,929\n",
      "Net income\tOperating activities\t\t93,736\t96,995\t99,803\n",
      "Adjustments to reconcile net income to cash generated by operating activities\tOperating activities\tDepreciation and amortization\t11,445\t11,519\t11,104\n",
      "Adjustments to reconcile net income to cash generated by operating activities\tOperating activities\tShare-based compensation expense\t11,688\t10,833\t9,038\n",
      "Adjustments to reconcile net income to cash generated by operating activities\tOperating activities\tOther\t(2,266)\t(2,227)\t1,006\n",
      "Changes in operating assets and liabilities\tOperating activities\tAccounts receivable, net\t(3,788)\t(1,688)\t(1,823)\n",
      "Changes in operating assets and liabilities\tOperating activities\tVendor non-trade receivables\t(1,356)\t1,271\t(7,520)\n",
      "Changes in operating assets and liabilities\tOperating activities\tInventories\t(1,046)\t(1,618)\t1,484\n",
      "Changes in operating assets and liabilities\tOperating activities\tOther current and non-current assets\t(11,731)\t(5,684)\t(6,499)\n",
      "Changes in operating assets and liabilities\tOperating activities\tAccounts payable\t6,020\t(1,889)\t9,448\n",
      "Changes in operating assets and liabilities\tOperating activities\tOther current and non-current liabilities\t15,552\t3,031\t6,110\n",
      "Cash generated by operating activities\tOperating activities\t\t118,254\t110,543\t122,151\n",
      "Investing activities\t\tPurchases of marketable securities\t(48,656)\t(29,513)\t(76,923)\n",
      "Investing activities\t\tProceeds from maturities of marketable securities\t51,211\t39,686\t29,917\n",
      "Investing activities\t\tProceeds from sales of marketable securities\t11,135\t5,828\t37,446\n",
      "Investing activities\t\tPayments for acquisition of property, plant and equipment\t(9,447)\t(10,959)\t(10,708)\n",
      "Investing activities\t\tOther\t(1,308)\t(1,337)\t(2,086)\n",
      "Cash generated by/(used in) investing activities\tInvesting activities\t\t2,935\t3,705\t(22,354)\n",
      "Financing activities\t\tPayments for taxes related to net share settlement of equity awards\t(5,441)\t(5,431)\t(6,223)\n",
      "Financing activities\t\tPayments for dividends and dividend equivalents\t(15,234)\t(15,025)\t(14,841)\n",
      "Financing activities\t\tRepurchases of common stock\t(94,949)\t(77,550)\t(89,402)\n",
      "Financing activities\t\tProceeds from issuance of term debt, net\t—\t5,228\t5,465\n",
      "Financing activities\t\tRepayments of term debt\t(9,958)\t(11,151)\t(9,543)\n",
      "Financing activities\t\tProceeds from/(Repayments of) commercial paper, net\t3,960\t(3,978)\t3,955\n",
      "Financing activities\t\tOther\t(361)\t(581)\t(160)\n",
      "Cash used in financing activities\tFinancing activities\t\t(121,983)\t(108,488)\t(110,749)\n",
      "Increase/(Decrease) in cash, cash equivalents, and restricted cash and cash equivalents\t\t\t(794)\t5,760\t(10,952)\n",
      "Cash, cash equivalents, and restricted cash and cash equivalents, ending balances\t\t\t29,943\t30,737\t24,977\n",
      "Supplemental cash flow disclosure\t\tCash paid for income taxes, net\t26,102\t18,679\t19,573\n",
      "\n",
      "ShareholdersEquity\n",
      "Item\tCategory\tSubcategory\tDate-1\tDate-2\tDate-3\n",
      "Total shareholders’ equity, beginning balances\t\t\t62,146\t50,672\t63,090\n",
      "Common stock and additional paid-in capital\t\tBeginning balances\t73,812\t64,849\t57,365\n",
      "Common stock and additional paid-in capital\t\tCommon stock issued\t1,423\t1,346\t1,175\n",
      "Common stock and additional paid-in capital\t\tCommon stock withheld related to net share settlement of equity awards\t(3,993)\t(3,521)\t(2,971)\n",
      "Common stock and additional paid-in capital\t\tShare-based compensation\t12,034\t11,138\t9,280\n",
      "Common stock and additional paid-in capital\t\tEnding balances\t83,276\t73,812\t64,849\n",
      "Retained earnings/(Accumulated deficit)\t\tBeginning balances\t(214)\t(3,068)\t5,562\n",
      "Retained earnings/(Accumulated deficit)\t\tNet income\t93,736\t96,995\t99,803\n",
      "Retained earnings/(Accumulated deficit)\t\tDividends and dividend equivalents declared\t(15,218)\t(14,996)\t(14,793)\n",
      "Retained earnings/(Accumulated deficit)\t\tCommon stock withheld related to net share settlement of equity awards\t(1,612)\t(2,099)\t(3,454)\n",
      "Retained earnings/(Accumulated deficit)\t\tCommon stock repurchased\t(95,846)\t(77,046)\t(90,186)\n",
      "Retained earnings/(Accumulated deficit)\t\tEnding balances\t(19,154)\t(214)\t(3,068)\n",
      "Accumulated other comprehensive income/(loss)\t\tBeginning balances\t(11,452)\t(11,109)\t163\n",
      "Accumulated other comprehensive income/(loss)\t\tOther comprehensive income/(loss)\t4,280\t(343)\t(11,272)\n",
      "Accumulated other comprehensive income/(loss)\t\tEnding balances\t(7,172)\t(11,452)\t(11,109)\n",
      "Total shareholders’ equity, ending balances\t\t\t56,950\t62,146\t50,672\n",
      "Dividends and dividend equivalents declared per share or RSU\t\t\t0.98\t0.94\t0.90\n",
      "```\n"
     ]
    }
   ],
   "source": [
    "print(result)"
   ]
  },
  {
   "cell_type": "code",
   "execution_count": 29,
   "metadata": {},
   "outputs": [
    {
     "name": "stdout",
     "output_type": "stream",
     "text": [
      "The balance sheet data has been saved to 'balance_sheet_3.tsv'.\n"
     ]
    }
   ],
   "source": [
    "with open('balance_sheet_21.tsv', 'w') as file:\n",
    "    file.write(result)\n",
    "\n",
    "print(\"The balance sheet data has been saved to 'balance_sheet_3.tsv'.\")"
   ]
  },
  {
   "cell_type": "code",
   "execution_count": null,
   "metadata": {},
   "outputs": [],
   "source": []
  }
 ],
 "metadata": {
  "kernelspec": {
   "display_name": "base",
   "language": "python",
   "name": "python3"
  },
  "language_info": {
   "codemirror_mode": {
    "name": "ipython",
    "version": 3
   },
   "file_extension": ".py",
   "mimetype": "text/x-python",
   "name": "python",
   "nbconvert_exporter": "python",
   "pygments_lexer": "ipython3",
   "version": "3.11.5"
  }
 },
 "nbformat": 4,
 "nbformat_minor": 2
}
