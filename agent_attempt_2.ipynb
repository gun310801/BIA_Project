{
 "cells": [
  {
   "cell_type": "code",
   "execution_count": 157,
   "metadata": {},
   "outputs": [],
   "source": [
    "import os\n",
    "from dotenv import load_dotenv\n",
    "load_dotenv('key.env')  \n",
    "\n",
    "key_string = os.getenv('open_ai_API_Key')"
   ]
  },
  {
   "cell_type": "code",
   "execution_count": 158,
   "metadata": {},
   "outputs": [],
   "source": [
    "# !pip install pydantic --upgrade\n"
   ]
  },
  {
   "cell_type": "code",
   "execution_count": 159,
   "metadata": {},
   "outputs": [],
   "source": [
    "from langchain import hub\n",
    "from langchain.agents import AgentExecutor, create_tool_calling_agent\n",
    "from pydantic import BaseModel, Field\n",
    "from langchain_core.tools import StructuredTool, Tool\n",
    "from langchain_openai import ChatOpenAI\n",
    "\n",
    "from langchain.tools import tool"
   ]
  },
  {
   "cell_type": "code",
   "execution_count": 160,
   "metadata": {},
   "outputs": [],
   "source": [
    "\n",
    "from langchain import hub\n",
    "from langchain.agents import AgentExecutor, create_structured_chat_agent\n",
    "from langchain.memory import ConversationBufferMemory\n",
    "from langchain_core.messages import AIMessage, HumanMessage, SystemMessage\n",
    "from langchain_core.tools import Tool\n",
    "from langchain_openai import ChatOpenAI\n"
   ]
  },
  {
   "cell_type": "code",
   "execution_count": 161,
   "metadata": {},
   "outputs": [],
   "source": [
    "class Extract_toolArgs(BaseModel):\n",
    "    a: str = Field(description=\"Company name\")\n",
    "    b: str = Field(description=\"item\")\n",
    "    c: str = Field(description=\"Year_1\")\n",
    "    d: str = Field(description=\"Year_2\")"
   ]
  },
  {
   "cell_type": "code",
   "execution_count": 162,
   "metadata": {},
   "outputs": [],
   "source": [
    "class Extracted_toolArgs(BaseModel):\n",
    "    year : list = Field(description=\"List of years\")\n",
    "    value : list = Field(discription = \"List of Values\")"
   ]
  },
  {
   "cell_type": "code",
   "execution_count": 163,
   "metadata": {},
   "outputs": [],
   "source": [
    "import json\n",
    "@tool(args_schema=Extract_toolArgs)\n",
    "def Extract_Tool(a: str, b: str, c:str, d:str) -> Extract_toolArgs:\n",
    "    \"\"\"extracts specific data for a company from Year_1 to Year_2.\"\"\"\n",
    "    with open(\"data_soo.json\",\"r\") as json_file:\n",
    "        data = json.load(json_file)\n",
    "    \n",
    "    a = a.upper()\n",
    "    b = b.lower()\n",
    "    json_data = next(item for item in data[a] if item[\"Item\"] == b)\n",
    "    \n",
    "    year_data =[]\n",
    "    cash_data = []\n",
    "    \n",
    "    # Ensure c and d represent years in the correct order\n",
    "    if int(c) > int(d):\n",
    "        c, d = d, c\n",
    "    \n",
    "    for year in range(int(c), int(d) + 1):\n",
    "        value = json_data.get(str(year))\n",
    "        if value is not None:\n",
    "            cash_data.append(value)\n",
    "            year_data.append(year)\n",
    "\n",
    "            \n",
    "    \n",
    "    if len(cash_data) == 0:\n",
    "        raise ValueError(f\"Data for the years {c} to {d} is not available.\")\n",
    "    \n",
    "    return cash_data,year_data\n",
    "\n",
    "\n"
   ]
  },
  {
   "cell_type": "code",
   "execution_count": 164,
   "metadata": {},
   "outputs": [],
   "source": [
    "class GrowthToolArgs(BaseModel):\n",
    "    sales_data : list = Field(description=\"list of sales data\")\n",
    "    year_data:list = Field(description=\"list of years of sales data\")\n"
   ]
  },
  {
   "cell_type": "code",
   "execution_count": 165,
   "metadata": {},
   "outputs": [],
   "source": [
    "@tool(args_schema=GrowthToolArgs)\n",
    "def Growth_Tool(sales_data: list, year_data: list) -> list[float]:\n",
    "    \"\"\"\n",
    "    Calculates year-on-year (YoY) growth for 'Net Sales' for a specific company.\n",
    "    This function receives year data and sales data list.\n",
    "\n",
    "    Arguments:\n",
    "    - sales_data: List of dictionaries containing year and corresponding sales.\n",
    "    - year_data: List of years corresponding to the sales data.\n",
    "    \n",
    "    Returns:\n",
    "    - A list of floats representing the YoY growth percentage for each year compared to the previous year.\n",
    "    \"\"\"\n",
    "    # Ensure there is sufficient data for year-on-year calculation\n",
    "    if len(sales_data) < 2:\n",
    "        return [\"Not enough data to calculate year-on-year sales growth.\"]\n",
    "    \n",
    "    yoy_growth = []\n",
    "    \n",
    "    # Sort the sales data by year to ensure proper calculation\n",
    "    sales_data_sorted = sorted(zip(year_data, sales_data), key=lambda x: x[0])\n",
    "\n",
    "    # Extract sorted years and sales\n",
    "    sorted_years, sorted_sales = zip(*sales_data_sorted)\n",
    "\n",
    "    for i in range(1, len(sorted_years)):\n",
    "        current_year = sorted_years[i]\n",
    "        previous_year = sorted_years[i - 1]\n",
    "\n",
    "        current_year_sales = sorted_sales[i]\n",
    "        previous_year_sales = sorted_sales[i - 1]\n",
    "\n",
    "        if previous_year_sales is not None and current_year_sales is not None:\n",
    "            # Calculate YoY growth\n",
    "            growth = ((current_year_sales - previous_year_sales) / previous_year_sales) * 100\n",
    "            yoy_growth.append(growth)\n",
    "        else:\n",
    "            yoy_growth.append(None)  # If data is missing\n",
    "    \n",
    "    return yoy_growth\n"
   ]
  },
  {
   "cell_type": "code",
   "execution_count": 166,
   "metadata": {},
   "outputs": [],
   "source": [
    "class GrossMarginToolArgs(BaseModel):\n",
    "    gross_margin_data : list = Field(description=\"list of Gross margin data\")\n",
    "    sales_data : list = Field(description=\"list of sales data\")\n",
    "    year_data:list = Field(description=\"list of years of Gross margin data\")"
   ]
  },
  {
   "cell_type": "code",
   "execution_count": 167,
   "metadata": {},
   "outputs": [],
   "source": [
    "@tool(args_schema=GrossMarginToolArgs)\n",
    "def GrossmmarginpercTool(gross_margin_data: list, year_data: list, sales_data: list) -> list[float]:\n",
    "    \"\"\"\n",
    "    Calculates percentage of Gross Margin.\n",
    "    This function receives year data and sales data list and Gross margin.\n",
    "\n",
    "    Arguments:\n",
    "    - sales_data: List of corresponding sales data.\n",
    "    - year_data: List of years corresponding to the sales data.\n",
    "    -gross_margin_data: List of corresponding gross margin data.\n",
    "    \n",
    "    Returns:\n",
    "    - A list of floats representing the YoY gross margin percentage for each year.\n",
    "    \"\"\"\n",
    "    # Ensure there is sufficient data for year-on-year calculation\n",
    "\n",
    "    if len(gross_margin_data) != len(sales_data) or len(sales_data) != len(year_data):\n",
    "        raise ValueError(\"All input lists must have the same length.\")\n",
    "\n",
    "    # Ensure there is sufficient data for year-on-year calculation\n",
    "    if len(year_data) < 2:\n",
    "        raise ValueError(\"At least two years of data are required for YoY calculation.\")\n",
    "\n",
    "    # Sort the data by year to ensure proper calculation\n",
    "    data_sorted = sorted(zip(year_data, gross_margin_data, sales_data), key=lambda x: x[0])\n",
    "\n",
    "    # Extract sorted years, gross margins, and sales\n",
    "    sorted_years, sorted_gross_margins, sorted_sales = zip(*data_sorted)\n",
    "\n",
    "    yoy_gross_margin_percentage = []\n",
    "\n",
    "    for i in range(len(sorted_years)):\n",
    "        if sorted_sales[i] is not None and sorted_sales[i] > 0:  # Avoid division by zero or invalid sales data\n",
    "            # Calculate Gross Margin percentage for the year\n",
    "            gross_margin_percentage = (sorted_gross_margins[i] / sorted_sales[i]) * 100\n",
    "            yoy_gross_margin_percentage.append(gross_margin_percentage)\n",
    "        else:\n",
    "            yoy_gross_margin_percentage.append(None)  # If data is missing or invalid\n",
    "\n",
    "    return yoy_gross_margin_percentage"
   ]
  },
  {
   "cell_type": "code",
   "execution_count": 168,
   "metadata": {},
   "outputs": [],
   "source": [
    "class expensespercArgs(BaseModel):\n",
    "    t_o_e_data : list = Field(description=\"list of total operating expenses data\")\n",
    "    sales_data : list = Field(description=\"list of sales data\")\n",
    "    year_data:list = Field(description=\"list of years of total operating expenses data\")"
   ]
  },
  {
   "cell_type": "code",
   "execution_count": 169,
   "metadata": {},
   "outputs": [],
   "source": [
    "@tool(args_schema=expensespercArgs)\n",
    "def ExpensespercTool(t_o_e_data: list, year_data: list, sales_data: list) -> list[float]:\n",
    "    \"\"\"\n",
    "    Calculates expenses percentage sales.\n",
    "    This function receives year data and sales data list and total operating expenses.\n",
    "\n",
    "    Arguments:\n",
    "    - sales_data: List of corresponding sales data.\n",
    "    - year_data: List of years corresponding to the sales data.\n",
    "    - t_o_e_data: List of corresponding total operating expenses data.\n",
    "    \n",
    "    Returns:\n",
    "    - A list of floats representing the  expenses percentage sales for each year.\n",
    "    \"\"\"\n",
    "    # Ensure there is sufficient data for year-on-year calculation\n",
    "\n",
    "    if len(t_o_e_data) != len(sales_data) or len(sales_data) != len(year_data):\n",
    "        raise ValueError(\"All input lists must have the same length.\")\n",
    "\n",
    "    # Ensure there is sufficient data for year-on-year calculation\n",
    "    if len(year_data) < 2:\n",
    "        raise ValueError(\"At least two years of data are required for YoY calculation.\")\n",
    "\n",
    "    # Sort the data by year to ensure proper calculation\n",
    "    data_sorted = sorted(zip(year_data, t_o_e_data, sales_data), key=lambda x: x[0])\n",
    "\n",
    "    # Extract sorted years, gross margins, and sales\n",
    "    sorted_years, sorted_t_o_e_data, sorted_sales = zip(*data_sorted)\n",
    "\n",
    "    yoy_expenses_percentage = []\n",
    "\n",
    "    for i in range(len(sorted_years)):\n",
    "        if sorted_sales[i] is not None and sorted_sales[i] > 0:  # Avoid division by zero or invalid sales data\n",
    "            # Calculate Gross Margin percentage for the year\n",
    "            expenses_percentage = (sorted_t_o_e_data[i] / sorted_sales[i]) * 100\n",
    "            yoy_expenses_percentage.append(expenses_percentage)\n",
    "        else:\n",
    "            yoy_expenses_percentage.append(None)  # If data is missing or invalid\n",
    "\n",
    "    return yoy_expenses_percentage"
   ]
  },
  {
   "cell_type": "code",
   "execution_count": 170,
   "metadata": {},
   "outputs": [],
   "source": [
    "class TaxratesArgs(BaseModel):\n",
    "    Provision_of_IT_data : list = Field(description=\"list of provision for income taxes data\")\n",
    "    sales_data : list = Field(description=\"list of sales data\")\n",
    "    year_data:list = Field(description=\"list of years of total operating expenses data\")"
   ]
  },
  {
   "cell_type": "code",
   "execution_count": 171,
   "metadata": {},
   "outputs": [],
   "source": [
    "@tool(args_schema=TaxratesArgs)\n",
    "def TaxrateTool(Provision_of_IT_data: list, year_data: list, sales_data: list) -> list[float]:\n",
    "    \"\"\"\n",
    "    Calculates tax rate percentage.\n",
    "    This function receives year data and sales data list and provision for income tax.\n",
    "\n",
    "    Arguments:\n",
    "    - sales_data: List of corresponding sales data.\n",
    "    - year_data: List of years corresponding to the sales data.\n",
    "    - Provision_of_IT_data: List of corresponding provision for income tax.\n",
    "    \n",
    "    Returns:\n",
    "    - A list of floats representing the tax rate percentage for each year.\n",
    "    \"\"\"\n",
    "    # Ensure there is sufficient data for year-on-year calculation\n",
    "\n",
    "    if len(Provision_of_IT_data) != len(sales_data) or len(sales_data) != len(year_data):\n",
    "        raise ValueError(\"All input lists must have the same length.\")\n",
    "\n",
    "    # Ensure there is sufficient data for year-on-year calculation\n",
    "    if len(year_data) < 2:\n",
    "        raise ValueError(\"At least two years of data are required for YoY calculation.\")\n",
    "\n",
    "    # Sort the data by year to ensure proper calculation\n",
    "    data_sorted = sorted(zip(year_data, Provision_of_IT_data, sales_data), key=lambda x: x[0])\n",
    "\n",
    "    # Extract sorted years, gross margins, and sales\n",
    "    sorted_years, sorted_IT_data, sorted_sales = zip(*data_sorted)\n",
    "\n",
    "    yoy_Tax_Rate_percentage = []\n",
    "\n",
    "    for i in range(len(sorted_years)):\n",
    "        if sorted_sales[i] is not None and sorted_sales[i] > 0:  # Avoid division by zero or invalid sales data\n",
    "            # Calculate Gross Margin percentage for the year\n",
    "            tax_percentage = (sorted_IT_data[i] / sorted_sales[i]) * 100\n",
    "            yoy_Tax_Rate_percentage.append(tax_percentage)\n",
    "        else:\n",
    "            yoy_Tax_Rate_percentage.append(None)  # If data is missing or invalid\n",
    "\n",
    "    return yoy_Tax_Rate_percentage"
   ]
  },
  {
   "cell_type": "code",
   "execution_count": 172,
   "metadata": {},
   "outputs": [],
   "source": [
    "tools = [Extract_Tool,Growth_Tool, GrossmmarginpercTool,ExpensespercTool, TaxrateTool]"
   ]
  },
  {
   "cell_type": "code",
   "execution_count": 173,
   "metadata": {},
   "outputs": [],
   "source": [
    "llm = ChatOpenAI(model=\"gpt-4o\", openai_api_key=key_string)"
   ]
  },
  {
   "cell_type": "code",
   "execution_count": 174,
   "metadata": {},
   "outputs": [
    {
     "name": "stderr",
     "output_type": "stream",
     "text": [
      "/Users/gunik/anaconda3/lib/python3.11/site-packages/langsmith/client.py:261: LangSmithMissingAPIKeyWarning: API key must be provided when using hosted LangSmith API\n",
      "  warnings.warn(\n"
     ]
    }
   ],
   "source": [
    "prompt = hub.pull(\"hwchase17/structured-chat-agent\")"
   ]
  },
  {
   "cell_type": "code",
   "execution_count": 175,
   "metadata": {},
   "outputs": [],
   "source": [
    "memory = ConversationBufferMemory(\n",
    "    memory_key=\"chat_history\", return_messages=True)"
   ]
  },
  {
   "cell_type": "code",
   "execution_count": 176,
   "metadata": {},
   "outputs": [],
   "source": [
    "agent = create_structured_chat_agent(llm=llm, tools=tools, prompt=prompt)"
   ]
  },
  {
   "cell_type": "code",
   "execution_count": 177,
   "metadata": {},
   "outputs": [],
   "source": [
    "agent_executor = AgentExecutor.from_agent_and_tools(\n",
    "    agent=agent,\n",
    "    tools=tools,\n",
    "    verbose=True,\n",
    "    memory=memory,  # Use the conversation memory to maintain context\n",
    "    handle_parsing_errors=True,  # Handle any parsing errors gracefully\n",
    ")"
   ]
  },
  {
   "cell_type": "code",
   "execution_count": 178,
   "metadata": {},
   "outputs": [],
   "source": [
    "initial_message = \"You are an AI assistant that can provide helpful answers using available tools.\\nIf you are unable to answer, you can use the following tools: Extract_Tool and Growth_Tool\"\n",
    "memory.chat_memory.add_message(SystemMessage(content=initial_message))\n"
   ]
  },
  {
   "cell_type": "code",
   "execution_count": 192,
   "metadata": {},
   "outputs": [
    {
     "name": "stdout",
     "output_type": "stream",
     "text": [
      "\n",
      "\n",
      "\u001b[1m> Entering new AgentExecutor chain...\u001b[0m\n",
      "\u001b[32;1m\u001b[1;3m{\n",
      "  \"action\": \"Extract_Tool\",\n",
      "  \"action_input\": {\n",
      "    \"a\": \"Apple\",\n",
      "    \"b\": \"Provision for Income Taxes\",\n",
      "    \"c\": \"2020\",\n",
      "    \"d\": \"2023\"\n",
      "  }\n",
      "}\u001b[0m\u001b[36;1m\u001b[1;3m([9680, 14527, 19300, 16741], [2020, 2021, 2022, 2023])\u001b[0m\u001b[32;1m\u001b[1;3m{\n",
      "  \"action\": \"Extract_Tool\",\n",
      "  \"action_input\": {\n",
      "    \"a\": \"Apple\",\n",
      "    \"b\": \"Net Sales\",\n",
      "    \"c\": \"2020\",\n",
      "    \"d\": \"2023\"\n",
      "  }\n",
      "}\u001b[0m\u001b[36;1m\u001b[1;3m([274515, 365817, 394328, 383285], [2020, 2021, 2022, 2023])\u001b[0m\u001b[32;1m\u001b[1;3m{\n",
      "  \"action\": \"TaxrateTool\",\n",
      "  \"action_input\": {\n",
      "    \"Provision_of_IT_data\": [9680, 14527, 19300, 16741],\n",
      "    \"year_data\": [2020, 2021, 2022, 2023],\n",
      "    \"sales_data\": [274515, 365817, 394328, 383285]\n",
      "  }\n",
      "}\u001b[0m\u001b[33;1m\u001b[1;3m[3.5262189679981057, 3.971111238679449, 4.8944026292832365, 4.367768109892117]\u001b[0m\u001b[32;1m\u001b[1;3mCould not parse LLM output: The tax rate percentages for Apple from 2020 to 2023 are as follows:\n",
      "- 2020: 3.53%\n",
      "- 2021: 3.97%\n",
      "- 2022: 4.89%\n",
      "- 2023: 4.37%\n",
      "For troubleshooting, visit: https://python.langchain.com/docs/troubleshooting/errors/OUTPUT_PARSING_FAILURE\u001b[0mInvalid or incomplete response\u001b[32;1m\u001b[1;3mCould not parse LLM output: The tax rate percentages for Apple from 2020 to 2023 are as follows:\n",
      "- 2020: 3.53%\n",
      "- 2021: 3.97%\n",
      "- 2022: 4.89%\n",
      "- 2023: 4.37%\n",
      "For troubleshooting, visit: https://python.langchain.com/docs/troubleshooting/errors/OUTPUT_PARSING_FAILURE\u001b[0mInvalid or incomplete response\u001b[32;1m\u001b[1;3mCould not parse LLM output: The tax rate percentages for Apple from 2020 to 2023 are as follows:\n",
      "- 2020: 3.53%\n",
      "- 2021: 3.97%\n",
      "- 2022: 4.89%\n",
      "- 2023: 4.37%\n",
      "For troubleshooting, visit: https://python.langchain.com/docs/troubleshooting/errors/OUTPUT_PARSING_FAILURE\u001b[0mInvalid or incomplete response\u001b[32;1m\u001b[1;3m```json\n",
      "{\n",
      "  \"action\": \"Final Answer\",\n",
      "  \"action_input\": \"The tax rate percentages for Apple from 2020 to 2023 are as follows: 2020: 3.53%, 2021: 3.97%, 2022: 4.89%, 2023: 4.37%.\"\n",
      "}\n",
      "```\u001b[0m\n",
      "\n",
      "\u001b[1m> Finished chain.\u001b[0m\n",
      "Bot: The tax rate percentages for Apple from 2020 to 2023 are as follows: 2020: 3.53%, 2021: 3.97%, 2022: 4.89%, 2023: 4.37%.\n",
      "\n",
      "\n",
      "\u001b[1m> Entering new AgentExecutor chain...\u001b[0m\n",
      "\u001b[32;1m\u001b[1;3m{\n",
      "  \"action\": \"Extract_Tool\",\n",
      "  \"action_input\": {\n",
      "    \"a\": \"Apple\",\n",
      "    \"b\": \"Net Sales\",\n",
      "    \"c\": \"2020\",\n",
      "    \"d\": \"2023\"\n",
      "  }\n",
      "}\u001b[0m\u001b[36;1m\u001b[1;3m([274515, 365817, 394328, 383285], [2020, 2021, 2022, 2023])\u001b[0m\u001b[32;1m\u001b[1;3m{\n",
      "  \"action\": \"Growth_Tool\",\n",
      "  \"action_input\": {\n",
      "    \"sales_data\": [274515, 365817, 394328, 383285],\n",
      "    \"year_data\": [2020, 2021, 2022, 2023]\n",
      "  }\n",
      "}\u001b[0m\u001b[33;1m\u001b[1;3m[33.25938473307469, 7.7937876041846055, -2.8004605303199366]\u001b[0m\u001b[32;1m\u001b[1;3m```json\n",
      "{\n",
      "  \"action\": \"Final Answer\",\n",
      "  \"action_input\": \"The growth percentages for Apple's net sales from 2020 to 2023 are as follows: 2021: 33.26%, 2022: 7.79%, 2023: -2.80%.\"\n",
      "}\n",
      "```\u001b[0m\n",
      "\n",
      "\u001b[1m> Finished chain.\u001b[0m\n",
      "Bot: The growth percentages for Apple's net sales from 2020 to 2023 are as follows: 2021: 33.26%, 2022: 7.79%, 2023: -2.80%.\n",
      "\n",
      "\n",
      "\u001b[1m> Entering new AgentExecutor chain...\u001b[0m\n",
      "\u001b[32;1m\u001b[1;3m{\n",
      "  \"action\": \"Final Answer\",\n",
      "  \"action_input\": \"Based on the data for Apple from 2020 to 2023, several insights can be drawn:\\n\\n1. Sales Growth:\\n   - Apple experienced significant sales growth in 2021 with a 33.26% increase, indicating a strong recovery or expansion during that period.\\n   - The growth rate slowed down to 7.79% in 2022, which might suggest market saturation or increased competition.\\n   - In 2023, Apple saw a slight decline in sales with a -2.80% growth rate. This could be due to various factors like market conditions, supply chain issues, or changes in consumer preferences.\\n\\n2. Tax Rate:\\n   - Apple's tax rate slightly increased from 3.53% in 2020 to 4.89% in 2022, suggesting changes in tax policies or Apple's financial strategies.\\n   - In 2023, the tax rate decreased to 4.37%, which might reflect adjustments in Apple's tax planning or changes in geographical revenue distribution.\\n\\nThese insights can help in understanding Apple's financial performance and strategic decisions during these years.\"\n",
      "}\u001b[0m\n",
      "\n",
      "\u001b[1m> Finished chain.\u001b[0m\n",
      "Bot: Based on the data for Apple from 2020 to 2023, several insights can be drawn:\n",
      "\n",
      "1. Sales Growth:\n",
      "   - Apple experienced significant sales growth in 2021 with a 33.26% increase, indicating a strong recovery or expansion during that period.\n",
      "   - The growth rate slowed down to 7.79% in 2022, which might suggest market saturation or increased competition.\n",
      "   - In 2023, Apple saw a slight decline in sales with a -2.80% growth rate. This could be due to various factors like market conditions, supply chain issues, or changes in consumer preferences.\n",
      "\n",
      "2. Tax Rate:\n",
      "   - Apple's tax rate slightly increased from 3.53% in 2020 to 4.89% in 2022, suggesting changes in tax policies or Apple's financial strategies.\n",
      "   - In 2023, the tax rate decreased to 4.37%, which might reflect adjustments in Apple's tax planning or changes in geographical revenue distribution.\n",
      "\n",
      "These insights can help in understanding Apple's financial performance and strategic decisions during these years.\n",
      "\n",
      "\n",
      "\u001b[1m> Entering new AgentExecutor chain...\u001b[0m\n",
      "\u001b[32;1m\u001b[1;3m{\n",
      "  \"action\": \"Final Answer\",\n",
      "  \"action_input\": \"I'm unable to create graphs directly. However, you can use software like Microsoft Excel, Google Sheets, or any data visualization tool to create graphs using the provided data. Here's a suggestion on how to represent the data:\\n\\n1. **Sales Growth Graph**:\\n   - X-axis: Years (2020 to 2023)\\n   - Y-axis: Sales Growth Percentage\\n   - Plot the points: (2021, 33.26%), (2022, 7.79%), (2023, -2.80%)\\n\\n2. **Tax Rate Graph**:\\n   - X-axis: Years (2020 to 2023)\\n   - Y-axis: Tax Rate Percentage\\n   - Plot the points: (2020, 3.53%), (2021, 3.97%), (2022, 4.89%), (2023, 4.37%)\\n\\nYou can use line graphs to connect the data points for a visual representation of trends over the years.\"\n",
      "}\u001b[0m\n",
      "\n",
      "\u001b[1m> Finished chain.\u001b[0m\n",
      "Bot: I'm unable to create graphs directly. However, you can use software like Microsoft Excel, Google Sheets, or any data visualization tool to create graphs using the provided data. Here's a suggestion on how to represent the data:\n",
      "\n",
      "1. **Sales Growth Graph**:\n",
      "   - X-axis: Years (2020 to 2023)\n",
      "   - Y-axis: Sales Growth Percentage\n",
      "   - Plot the points: (2021, 33.26%), (2022, 7.79%), (2023, -2.80%)\n",
      "\n",
      "2. **Tax Rate Graph**:\n",
      "   - X-axis: Years (2020 to 2023)\n",
      "   - Y-axis: Tax Rate Percentage\n",
      "   - Plot the points: (2020, 3.53%), (2021, 3.97%), (2022, 4.89%), (2023, 4.37%)\n",
      "\n",
      "You can use line graphs to connect the data points for a visual representation of trends over the years.\n"
     ]
    }
   ],
   "source": [
    "while True:\n",
    "    user_input = input(\"User: \")\n",
    "    if user_input.lower() == \"exit\":\n",
    "        break\n",
    "\n",
    "    # Add the user's message to the conversation memory\n",
    "    memory.chat_memory.add_message(HumanMessage(content=user_input))\n",
    "\n",
    "    # Invoke the agent with the user input and the current chat history\n",
    "    response = agent_executor.invoke({\"input\": user_input})\n",
    "    print(\"Bot:\", response[\"output\"])\n",
    "\n",
    "    # Add the agent's response to the conversation memory\n",
    "    memory.chat_memory.add_message(AIMessage(content=response[\"output\"]))"
   ]
  },
  {
   "cell_type": "code",
   "execution_count": 180,
   "metadata": {},
   "outputs": [],
   "source": [
    "# !pip install pydantic==1.10.11\n",
    "\n"
   ]
  },
  {
   "cell_type": "code",
   "execution_count": 181,
   "metadata": {},
   "outputs": [],
   "source": [
    "# prompt = hub.pull(\"hwchase17/openai-tools-agent\")"
   ]
  },
  {
   "cell_type": "code",
   "execution_count": 182,
   "metadata": {},
   "outputs": [],
   "source": [
    "# agent = create_tool_calling_agent(\n",
    "#     llm=llm,  # Language model to use\n",
    "#     tools=tools,  # List of tools available to the agent\n",
    "#     prompt=prompt,  # Prompt template to guide the agent's responses\n",
    "# )"
   ]
  },
  {
   "cell_type": "code",
   "execution_count": 183,
   "metadata": {},
   "outputs": [],
   "source": [
    "# agent_executor = AgentExecutor.from_agent_and_tools(\n",
    "#     agent=agent,  # The agent to execute\n",
    "#     tools=tools,  # List of tools available to the agent\n",
    "#     verbose=True,  # Enable verbose logging\n",
    "#     handle_parsing_errors=True,  # Handle parsing errors gracefully\n",
    "# )"
   ]
  },
  {
   "cell_type": "code",
   "execution_count": 184,
   "metadata": {},
   "outputs": [],
   "source": [
    "# response = agent_executor.invoke({\"input\": \" extract net sales of Apple 2019 to 2023 \"})"
   ]
  },
  {
   "cell_type": "code",
   "execution_count": 185,
   "metadata": {},
   "outputs": [],
   "source": [
    "# response = agent_executor.invoke({\"input\": \"generate some insights of sales growth of apple\"})"
   ]
  },
  {
   "cell_type": "code",
   "execution_count": 186,
   "metadata": {},
   "outputs": [],
   "source": [
    "# print(response)"
   ]
  },
  {
   "cell_type": "code",
   "execution_count": null,
   "metadata": {},
   "outputs": [],
   "source": []
  }
 ],
 "metadata": {
  "kernelspec": {
   "display_name": "base",
   "language": "python",
   "name": "python3"
  },
  "language_info": {
   "codemirror_mode": {
    "name": "ipython",
    "version": 3
   },
   "file_extension": ".py",
   "mimetype": "text/x-python",
   "name": "python",
   "nbconvert_exporter": "python",
   "pygments_lexer": "ipython3",
   "version": "3.11.5"
  }
 },
 "nbformat": 4,
 "nbformat_minor": 2
}
