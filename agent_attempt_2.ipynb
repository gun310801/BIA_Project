{
 "cells": [
  {
   "cell_type": "code",
   "execution_count": 85,
   "metadata": {},
   "outputs": [],
   "source": [
    "import os\n",
    "from dotenv import load_dotenv\n",
    "load_dotenv('key.env')  \n",
    "\n",
    "key_string = os.getenv('open_ai_API_Key')"
   ]
  },
  {
   "cell_type": "code",
   "execution_count": null,
   "metadata": {},
   "outputs": [],
   "source": [
    "from langchain import hub\n",
    "from langchain.agents import AgentExecutor, create_tool_calling_agent\n",
    "from langchain.pydantic_v1 import BaseModel, Field\n",
    "from langchain_core.tools import StructuredTool, Tool\n",
    "from langchain_openai import ChatOpenAI\n",
    "\n",
    "from langchain.tools import tool"
   ]
  },
  {
   "cell_type": "code",
   "execution_count": 87,
   "metadata": {},
   "outputs": [],
   "source": [
    "\n",
    "from langchain import hub\n",
    "from langchain.agents import AgentExecutor, create_structured_chat_agent\n",
    "from langchain.memory import ConversationBufferMemory\n",
    "from langchain_core.messages import AIMessage, HumanMessage, SystemMessage\n",
    "from langchain_core.tools import Tool\n",
    "from langchain_openai import ChatOpenAI\n"
   ]
  },
  {
   "cell_type": "code",
   "execution_count": 88,
   "metadata": {},
   "outputs": [],
   "source": [
    "class Extract_toolArgs(BaseModel):\n",
    "    a: str = Field(description=\"Company name\")\n",
    "    b: str = Field(description=\"item\")\n",
    "    c: str = Field(description=\"Year_1\")\n",
    "    d: str = Field(description=\"Year_2\")"
   ]
  },
  {
   "cell_type": "code",
   "execution_count": 89,
   "metadata": {},
   "outputs": [],
   "source": [
    "class Extracted_toolArgs(BaseModel):\n",
    "    year : list = Field(description=\"List of years\")\n",
    "    value : list = Field(discription = \"List of Values\")"
   ]
  },
  {
   "cell_type": "code",
   "execution_count": 90,
   "metadata": {},
   "outputs": [],
   "source": [
    "import json\n",
    "@tool(args_schema=Extract_toolArgs)\n",
    "def Extract_Tool(a: str, b: str, c:str, d:str) -> Extract_toolArgs:\n",
    "    \"\"\"extracts specific data for a company from Year_1 to Year_2.\"\"\"\n",
    "    with open(\"data_soo.json\",\"r\") as json_file:\n",
    "        data = json.load(json_file)\n",
    "    \n",
    "    a = a.upper()\n",
    "    b = b.lower()\n",
    "    json_data = next(item for item in data[a] if item[\"Item\"] == b)\n",
    "    \n",
    "    year_data =[]\n",
    "    cash_data = []\n",
    "    \n",
    "    # Ensure c and d represent years in the correct order\n",
    "    if int(c) > int(d):\n",
    "        c, d = d, c\n",
    "    \n",
    "    for year in range(int(c), int(d) + 1):\n",
    "        value = json_data.get(str(year))\n",
    "        if value is not None:\n",
    "            cash_data.append(value)\n",
    "            year_data.append(year)\n",
    "\n",
    "            \n",
    "    \n",
    "    if len(cash_data) == 0:\n",
    "        raise ValueError(f\"Data for the years {c} to {d} is not available.\")\n",
    "    \n",
    "    return cash_data,year_data\n",
    "\n",
    "\n"
   ]
  },
  {
   "cell_type": "code",
   "execution_count": 91,
   "metadata": {},
   "outputs": [],
   "source": [
    "class GrowthToolArgs(BaseModel):\n",
    "    sales_data : list = Field(description=\"list of sales data\")\n",
    "    year_data:list = Field(description=\"list of years of sales data\")\n"
   ]
  },
  {
   "cell_type": "code",
   "execution_count": 92,
   "metadata": {},
   "outputs": [],
   "source": [
    "@tool(args_schema=GrowthToolArgs)\n",
    "def Growth_Tool(sales_data: list, year_data: list) -> list[float]:\n",
    "    \"\"\"\n",
    "    Calculates year-on-year (YoY) growth for 'Net Sales' for a specific company.\n",
    "    This function receives year data and sales data list.\n",
    "\n",
    "    Arguments:\n",
    "    - sales_data: List of dictionaries containing year and corresponding sales.\n",
    "    - year_data: List of years corresponding to the sales data.\n",
    "    \n",
    "    Returns:\n",
    "    - A list of floats representing the YoY growth percentage for each year compared to the previous year.\n",
    "    \"\"\"\n",
    "    # Ensure there is sufficient data for year-on-year calculation\n",
    "    if len(sales_data) < 2:\n",
    "        return [\"Not enough data to calculate year-on-year sales growth.\"]\n",
    "    \n",
    "    yoy_growth = []\n",
    "    \n",
    "    # Sort the sales data by year to ensure proper calculation\n",
    "    sales_data_sorted = sorted(zip(year_data, sales_data), key=lambda x: x[0])\n",
    "\n",
    "    # Extract sorted years and sales\n",
    "    sorted_years, sorted_sales = zip(*sales_data_sorted)\n",
    "\n",
    "    for i in range(1, len(sorted_years)):\n",
    "        current_year = sorted_years[i]\n",
    "        previous_year = sorted_years[i - 1]\n",
    "\n",
    "        current_year_sales = sorted_sales[i]\n",
    "        previous_year_sales = sorted_sales[i - 1]\n",
    "\n",
    "        if previous_year_sales is not None and current_year_sales is not None:\n",
    "            # Calculate YoY growth\n",
    "            growth = ((current_year_sales - previous_year_sales) / previous_year_sales) * 100\n",
    "            yoy_growth.append(growth)\n",
    "        else:\n",
    "            yoy_growth.append(None)  # If data is missing\n",
    "    \n",
    "    return yoy_growth\n"
   ]
  },
  {
   "cell_type": "code",
   "execution_count": 93,
   "metadata": {},
   "outputs": [],
   "source": [
    "tools = [Extract_Tool,Growth_Tool]"
   ]
  },
  {
   "cell_type": "code",
   "execution_count": 94,
   "metadata": {},
   "outputs": [],
   "source": [
    "llm = ChatOpenAI(model=\"gpt-4o\", openai_api_key=key_string)"
   ]
  },
  {
   "cell_type": "code",
   "execution_count": 95,
   "metadata": {},
   "outputs": [
    {
     "name": "stderr",
     "output_type": "stream",
     "text": [
      "/Users/gunik/anaconda3/lib/python3.11/site-packages/langsmith/client.py:261: LangSmithMissingAPIKeyWarning: API key must be provided when using hosted LangSmith API\n",
      "  warnings.warn(\n"
     ]
    }
   ],
   "source": [
    "prompt = hub.pull(\"hwchase17/openai-tools-agent\")"
   ]
  },
  {
   "cell_type": "code",
   "execution_count": 96,
   "metadata": {},
   "outputs": [],
   "source": [
    "agent = create_tool_calling_agent(\n",
    "    llm=llm,  # Language model to use\n",
    "    tools=tools,  # List of tools available to the agent\n",
    "    prompt=prompt,  # Prompt template to guide the agent's responses\n",
    ")"
   ]
  },
  {
   "cell_type": "code",
   "execution_count": 97,
   "metadata": {},
   "outputs": [],
   "source": [
    "agent_executor = AgentExecutor.from_agent_and_tools(\n",
    "    agent=agent,  # The agent to execute\n",
    "    tools=tools,  # List of tools available to the agent\n",
    "    verbose=True,  # Enable verbose logging\n",
    "    handle_parsing_errors=True,  # Handle parsing errors gracefully\n",
    ")"
   ]
  },
  {
   "cell_type": "code",
   "execution_count": 98,
   "metadata": {},
   "outputs": [
    {
     "name": "stdout",
     "output_type": "stream",
     "text": [
      "\n",
      "\n",
      "\u001b[1m> Entering new AgentExecutor chain...\u001b[0m\n",
      "\u001b[32;1m\u001b[1;3m\n",
      "Invoking: `Extract_Tool` with `{'a': 'Apple', 'b': 'Net Sales', 'c': '2019', 'd': '2023'}`\n",
      "\n",
      "\n",
      "\u001b[0m\u001b[36;1m\u001b[1;3m([260174, 274515, 365817, 394328, 383285], [2019, 2020, 2021, 2022, 2023])\u001b[0m\u001b[32;1m\u001b[1;3mThe net sales of Apple from 2019 to 2023 are as follows:\n",
      "\n",
      "- 2019: $260,174 million\n",
      "- 2020: $274,515 million\n",
      "- 2021: $365,817 million\n",
      "- 2022: $394,328 million\n",
      "- 2023: $383,285 million\u001b[0m\n",
      "\n",
      "\u001b[1m> Finished chain.\u001b[0m\n"
     ]
    }
   ],
   "source": [
    "response = agent_executor.invoke({\"input\": \" extract net sales of Apple 2019 to 2023 \"})"
   ]
  },
  {
   "cell_type": "code",
   "execution_count": 106,
   "metadata": {},
   "outputs": [
    {
     "name": "stdout",
     "output_type": "stream",
     "text": [
      "\n",
      "\n",
      "\u001b[1m> Entering new AgentExecutor chain...\u001b[0m\n",
      "\u001b[32;1m\u001b[1;3m\n",
      "Invoking: `Extract_Tool` with `{'a': 'Apple', 'b': 'Net Sales', 'c': '2021', 'd': '2024'}`\n",
      "\n",
      "\n",
      "\u001b[0m\u001b[36;1m\u001b[1;3m([365817, 394328, 383285, 391035], [2021, 2022, 2023, 2024])\u001b[0m\u001b[32;1m\u001b[1;3m\n",
      "Invoking: `Growth_Tool` with `{'sales_data': [365817, 394328, 383285, 391035], 'year_data': [2021, 2022, 2023, 2024]}`\n",
      "\n",
      "\n",
      "\u001b[0m\u001b[33;1m\u001b[1;3m[7.7937876041846055, -2.8004605303199366, 2.021994077514121]\u001b[0m\u001b[32;1m\u001b[1;3mHere are the insights on Apple's sales growth from 2021 to 2024:\n",
      "\n",
      "- **2021 to 2022**: Apple experienced a growth in net sales of approximately **7.79%**.\n",
      "- **2022 to 2023**: There was a decline in net sales by about **2.80%**.\n",
      "- **2023 to 2024**: Sales increased slightly with a growth of around **2.02%**.\n",
      "\n",
      "Overall, Apple's net sales showed fluctuations over these years, with a notable growth in 2022 followed by a slight decline in 2023 and a small recovery in 2024.\u001b[0m\n",
      "\n",
      "\u001b[1m> Finished chain.\u001b[0m\n"
     ]
    }
   ],
   "source": [
    "response = agent_executor.invoke({\"input\": \"give me insights on sales growth from 2021 to 2024 for apple\"})"
   ]
  },
  {
   "cell_type": "code",
   "execution_count": 107,
   "metadata": {},
   "outputs": [
    {
     "name": "stdout",
     "output_type": "stream",
     "text": [
      "{'input': 'give me insights on sales growth from 2021 to 2024 for apple', 'output': \"Here are the insights on Apple's sales growth from 2021 to 2024:\\n\\n- **2021 to 2022**: Apple experienced a growth in net sales of approximately **7.79%**.\\n- **2022 to 2023**: There was a decline in net sales by about **2.80%**.\\n- **2023 to 2024**: Sales increased slightly with a growth of around **2.02%**.\\n\\nOverall, Apple's net sales showed fluctuations over these years, with a notable growth in 2022 followed by a slight decline in 2023 and a small recovery in 2024.\"}\n"
     ]
    }
   ],
   "source": [
    "print(response)"
   ]
  },
  {
   "cell_type": "code",
   "execution_count": null,
   "metadata": {},
   "outputs": [],
   "source": []
  }
 ],
 "metadata": {
  "kernelspec": {
   "display_name": "base",
   "language": "python",
   "name": "python3"
  },
  "language_info": {
   "codemirror_mode": {
    "name": "ipython",
    "version": 3
   },
   "file_extension": ".py",
   "mimetype": "text/x-python",
   "name": "python",
   "nbconvert_exporter": "python",
   "pygments_lexer": "ipython3",
   "version": "3.11.5"
  }
 },
 "nbformat": 4,
 "nbformat_minor": 2
}
