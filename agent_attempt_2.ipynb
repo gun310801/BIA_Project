{
 "cells": [
  {
   "cell_type": "code",
   "execution_count": 61,
   "metadata": {},
   "outputs": [],
   "source": [
    "import os\n",
    "from dotenv import load_dotenv\n",
    "load_dotenv('key.env')  \n",
    "\n",
    "key_string = os.getenv('open_ai_API_Key')"
   ]
  },
  {
   "cell_type": "code",
   "execution_count": 62,
   "metadata": {},
   "outputs": [],
   "source": [
    "# !pip install pydantic --upgrade\n"
   ]
  },
  {
   "cell_type": "code",
   "execution_count": 63,
   "metadata": {},
   "outputs": [],
   "source": [
    "from langchain import hub\n",
    "from langchain.agents import AgentExecutor, create_tool_calling_agent\n",
    "from pydantic import BaseModel, Field\n",
    "from langchain_core.tools import StructuredTool, Tool\n",
    "from langchain_openai import ChatOpenAI\n",
    "\n",
    "from langchain.tools import tool"
   ]
  },
  {
   "cell_type": "code",
   "execution_count": 64,
   "metadata": {},
   "outputs": [],
   "source": [
    "\n",
    "from langchain import hub\n",
    "from langchain.agents import AgentExecutor, create_structured_chat_agent\n",
    "from langchain.memory import ConversationBufferMemory\n",
    "from langchain_core.messages import AIMessage, HumanMessage, SystemMessage\n",
    "from langchain_core.tools import Tool\n",
    "from langchain_openai import ChatOpenAI\n"
   ]
  },
  {
   "cell_type": "code",
   "execution_count": 65,
   "metadata": {},
   "outputs": [],
   "source": [
    "class Extract_toolArgs(BaseModel):\n",
    "    a: str = Field(description=\"Company name\")\n",
    "    b: str = Field(description=\"item\")\n",
    "    c: str = Field(description=\"Year_1\")\n",
    "    d: str = Field(description=\"Year_2\")"
   ]
  },
  {
   "cell_type": "code",
   "execution_count": 66,
   "metadata": {},
   "outputs": [],
   "source": [
    "class Extracted_toolArgs(BaseModel):\n",
    "    year : list = Field(description=\"List of years\")\n",
    "    value : list = Field(discription = \"List of Values\")"
   ]
  },
  {
   "cell_type": "code",
   "execution_count": 67,
   "metadata": {},
   "outputs": [],
   "source": [
    "import json\n",
    "@tool(args_schema=Extract_toolArgs)\n",
    "def Extract_Tool(a: str, b: str, c:str, d:str) -> Extract_toolArgs:\n",
    "    \"\"\"extracts specific data for a company from Year_1 to Year_2.\"\"\"\n",
    "    with open(\"data_soo.json\",\"r\") as json_file:\n",
    "        data = json.load(json_file)\n",
    "    \n",
    "    a = a.upper()\n",
    "    b = b.lower()\n",
    "    json_data = next(item for item in data[a] if item[\"Item\"] == b)\n",
    "    \n",
    "    year_data =[]\n",
    "    cash_data = []\n",
    "    \n",
    "    # Ensure c and d represent years in the correct order\n",
    "    if int(c) > int(d):\n",
    "        c, d = d, c\n",
    "    \n",
    "    for year in range(int(c), int(d) + 1):\n",
    "        value = json_data.get(str(year))\n",
    "        if value is not None:\n",
    "            cash_data.append(value)\n",
    "            year_data.append(year)\n",
    "\n",
    "            \n",
    "    \n",
    "    if len(cash_data) == 0:\n",
    "        raise ValueError(f\"Data for the years {c} to {d} is not available.\")\n",
    "    \n",
    "    return cash_data,year_data\n",
    "\n",
    "\n"
   ]
  },
  {
   "cell_type": "code",
   "execution_count": 68,
   "metadata": {},
   "outputs": [],
   "source": [
    "class GrowthToolArgs(BaseModel):\n",
    "    sales_data : list = Field(description=\"list of sales data\")\n",
    "    year_data:list = Field(description=\"list of years of sales data\")\n"
   ]
  },
  {
   "cell_type": "code",
   "execution_count": 69,
   "metadata": {},
   "outputs": [],
   "source": [
    "@tool(args_schema=GrowthToolArgs)\n",
    "def Growth_Tool(sales_data: list, year_data: list) -> list[float]:\n",
    "    \"\"\"\n",
    "    Calculates year-on-year (YoY) growth for 'Net Sales' for a specific company.\n",
    "    This function receives year data and sales data list.\n",
    "\n",
    "    Arguments:\n",
    "    - sales_data: List of dictionaries containing year and corresponding sales.\n",
    "    - year_data: List of years corresponding to the sales data.\n",
    "    \n",
    "    Returns:\n",
    "    - A list of floats representing the YoY growth percentage for each year compared to the previous year.\n",
    "    \"\"\"\n",
    "    # Ensure there is sufficient data for year-on-year calculation\n",
    "    if len(sales_data) < 2:\n",
    "        return [\"Not enough data to calculate year-on-year sales growth.\"]\n",
    "    \n",
    "    yoy_growth = []\n",
    "    \n",
    "    # Sort the sales data by year to ensure proper calculation\n",
    "    sales_data_sorted = sorted(zip(year_data, sales_data), key=lambda x: x[0])\n",
    "\n",
    "    # Extract sorted years and sales\n",
    "    sorted_years, sorted_sales = zip(*sales_data_sorted)\n",
    "\n",
    "    for i in range(1, len(sorted_years)):\n",
    "        current_year = sorted_years[i]\n",
    "        previous_year = sorted_years[i - 1]\n",
    "\n",
    "        current_year_sales = sorted_sales[i]\n",
    "        previous_year_sales = sorted_sales[i - 1]\n",
    "\n",
    "        if previous_year_sales is not None and current_year_sales is not None:\n",
    "            # Calculate YoY growth\n",
    "            growth = ((current_year_sales - previous_year_sales) / previous_year_sales) * 100\n",
    "            yoy_growth.append(growth)\n",
    "        else:\n",
    "            yoy_growth.append(None)  # If data is missing\n",
    "    \n",
    "    return yoy_growth\n"
   ]
  },
  {
   "cell_type": "code",
   "execution_count": 70,
   "metadata": {},
   "outputs": [],
   "source": [
    "class GrossMarginToolArgs(BaseModel):\n",
    "    gross_margin_data : list = Field(description=\"list of Gross margin data\")\n",
    "    sales_data : list = Field(description=\"list of sales data\")\n",
    "    year_data:list = Field(description=\"list of years of Gross margin data\")"
   ]
  },
  {
   "cell_type": "code",
   "execution_count": 71,
   "metadata": {},
   "outputs": [],
   "source": [
    "@tool(args_schema=GrossMarginToolArgs)\n",
    "def GrossmmarginpercTool(gross_margin_data: list, year_data: list, sales_data: list) -> list[float]:\n",
    "    \"\"\"\n",
    "    Calculates percentage of Gross Margin.\n",
    "    This function receives year data and sales data list and Gross margin.\n",
    "\n",
    "    Arguments:\n",
    "    - sales_data: List of corresponding sales data.\n",
    "    - year_data: List of years corresponding to the sales data.\n",
    "    -gross_margin_data: List of corresponding gross margin data.\n",
    "    \n",
    "    Returns:\n",
    "    - A list of floats representing the YoY gross margin percentage for each year.\n",
    "    \"\"\"\n",
    "    # Ensure there is sufficient data for year-on-year calculation\n",
    "\n",
    "    if len(gross_margin_data) != len(sales_data) or len(sales_data) != len(year_data):\n",
    "        raise ValueError(\"All input lists must have the same length.\")\n",
    "\n",
    "    # Ensure there is sufficient data for year-on-year calculation\n",
    "    if len(year_data) < 2:\n",
    "        raise ValueError(\"At least two years of data are required for YoY calculation.\")\n",
    "\n",
    "    # Sort the data by year to ensure proper calculation\n",
    "    data_sorted = sorted(zip(year_data, gross_margin_data, sales_data), key=lambda x: x[0])\n",
    "\n",
    "    # Extract sorted years, gross margins, and sales\n",
    "    sorted_years, sorted_gross_margins, sorted_sales = zip(*data_sorted)\n",
    "\n",
    "    yoy_gross_margin_percentage = []\n",
    "\n",
    "    for i in range(len(sorted_years)):\n",
    "        if sorted_sales[i] is not None and sorted_sales[i] > 0:  # Avoid division by zero or invalid sales data\n",
    "            # Calculate Gross Margin percentage for the year\n",
    "            gross_margin_percentage = (sorted_gross_margins[i] / sorted_sales[i]) * 100\n",
    "            yoy_gross_margin_percentage.append(gross_margin_percentage)\n",
    "        else:\n",
    "            yoy_gross_margin_percentage.append(None)  # If data is missing or invalid\n",
    "\n",
    "    return yoy_gross_margin_percentage"
   ]
  },
  {
   "cell_type": "code",
   "execution_count": 72,
   "metadata": {},
   "outputs": [],
   "source": [
    "tools = [Extract_Tool,Growth_Tool, GrossmmarginpercTool]"
   ]
  },
  {
   "cell_type": "code",
   "execution_count": 73,
   "metadata": {},
   "outputs": [],
   "source": [
    "llm = ChatOpenAI(model=\"gpt-4o\", openai_api_key=key_string)"
   ]
  },
  {
   "cell_type": "code",
   "execution_count": 74,
   "metadata": {},
   "outputs": [
    {
     "name": "stderr",
     "output_type": "stream",
     "text": [
      "/Users/gunik/anaconda3/lib/python3.11/site-packages/langsmith/client.py:261: LangSmithMissingAPIKeyWarning: API key must be provided when using hosted LangSmith API\n",
      "  warnings.warn(\n"
     ]
    }
   ],
   "source": [
    "prompt = hub.pull(\"hwchase17/structured-chat-agent\")"
   ]
  },
  {
   "cell_type": "code",
   "execution_count": 75,
   "metadata": {},
   "outputs": [],
   "source": [
    "memory = ConversationBufferMemory(\n",
    "    memory_key=\"chat_history\", return_messages=True)"
   ]
  },
  {
   "cell_type": "code",
   "execution_count": 76,
   "metadata": {},
   "outputs": [],
   "source": [
    "agent = create_structured_chat_agent(llm=llm, tools=tools, prompt=prompt)"
   ]
  },
  {
   "cell_type": "code",
   "execution_count": 77,
   "metadata": {},
   "outputs": [],
   "source": [
    "agent_executor = AgentExecutor.from_agent_and_tools(\n",
    "    agent=agent,\n",
    "    tools=tools,\n",
    "    verbose=True,\n",
    "    memory=memory,  # Use the conversation memory to maintain context\n",
    "    handle_parsing_errors=True,  # Handle any parsing errors gracefully\n",
    ")"
   ]
  },
  {
   "cell_type": "code",
   "execution_count": 78,
   "metadata": {},
   "outputs": [],
   "source": [
    "initial_message = \"You are an AI assistant that can provide helpful answers using available tools.\\nIf you are unable to answer, you can use the following tools: Extract_Tool and Growth_Tool\"\n",
    "memory.chat_memory.add_message(SystemMessage(content=initial_message))\n"
   ]
  },
  {
   "cell_type": "code",
   "execution_count": 79,
   "metadata": {},
   "outputs": [
    {
     "name": "stdout",
     "output_type": "stream",
     "text": [
      "\n",
      "\n",
      "\u001b[1m> Entering new AgentExecutor chain...\u001b[0m\n",
      "\u001b[32;1m\u001b[1;3m{\n",
      "  \"action\": \"Extract_Tool\",\n",
      "  \"action_input\": {\n",
      "    \"a\": \"Apple\",\n",
      "    \"b\": \"Gross Margin\",\n",
      "    \"c\": \"2021\",\n",
      "    \"d\": \"2024\"\n",
      "  }\n",
      "}\u001b[0m\u001b[36;1m\u001b[1;3m([152836, 170782, 169148, 180683], [2021, 2022, 2023, 2024])\u001b[0m\u001b[32;1m\u001b[1;3mAction:\n",
      "```\n",
      "{\n",
      "  \"action\": \"Extract_Tool\",\n",
      "  \"action_input\": {\n",
      "    \"a\": \"Apple\",\n",
      "    \"b\": \"Net Sales\",\n",
      "    \"c\": \"2021\",\n",
      "    \"d\": \"2024\"\n",
      "  }\n",
      "}\n",
      "```\u001b[0m\u001b[36;1m\u001b[1;3m([365817, 394328, 383285, 391035], [2021, 2022, 2023, 2024])\u001b[0m\u001b[32;1m\u001b[1;3mAction:\n",
      "```\n",
      "{\n",
      "  \"action\": \"GrossmmarginpercTool\",\n",
      "  \"action_input\": {\n",
      "    \"gross_margin_data\": [152836, 170782, 169148, 180683],\n",
      "    \"sales_data\": [365817, 394328, 383285, 391035],\n",
      "    \"year_data\": [2021, 2022, 2023, 2024]\n",
      "  }\n",
      "}\n",
      "```\u001b[0m\u001b[38;5;200m\u001b[1;3m[41.77935962516778, 43.30963056136009, 44.13112957720756, 46.206349815233935]\u001b[0m\u001b[32;1m\u001b[1;3mAction:\n",
      "```\n",
      "{\n",
      "  \"action\": \"Final Answer\",\n",
      "  \"action_input\": \"The gross margin percentages for Apple from 2021 to 2024 are as follows: \\n- 2021: 41.78%\\n- 2022: 43.31%\\n- 2023: 44.13%\\n- 2024: 46.21%\\n\\nThe trend shows a steady increase in the gross margin percentage over the years. This suggests that Apple has been able to efficiently manage its cost of goods sold relative to its revenue, thus improving its profitability margins year over year.\"\n",
      "}\n",
      "```\u001b[0m\n",
      "\n",
      "\u001b[1m> Finished chain.\u001b[0m\n",
      "Bot: The gross margin percentages for Apple from 2021 to 2024 are as follows: \n",
      "- 2021: 41.78%\n",
      "- 2022: 43.31%\n",
      "- 2023: 44.13%\n",
      "- 2024: 46.21%\n",
      "\n",
      "The trend shows a steady increase in the gross margin percentage over the years. This suggests that Apple has been able to efficiently manage its cost of goods sold relative to its revenue, thus improving its profitability margins year over year.\n"
     ]
    }
   ],
   "source": [
    "while True:\n",
    "    user_input = input(\"User: \")\n",
    "    if user_input.lower() == \"exit\":\n",
    "        break\n",
    "\n",
    "    # Add the user's message to the conversation memory\n",
    "    memory.chat_memory.add_message(HumanMessage(content=user_input))\n",
    "\n",
    "    # Invoke the agent with the user input and the current chat history\n",
    "    response = agent_executor.invoke({\"input\": user_input})\n",
    "    print(\"Bot:\", response[\"output\"])\n",
    "\n",
    "    # Add the agent's response to the conversation memory\n",
    "    memory.chat_memory.add_message(AIMessage(content=response[\"output\"]))"
   ]
  },
  {
   "cell_type": "code",
   "execution_count": null,
   "metadata": {},
   "outputs": [
    {
     "name": "stdout",
     "output_type": "stream",
     "text": [
      "Collecting pydantic==1.10.11\n",
      "  Obtaining dependency information for pydantic==1.10.11 from https://files.pythonhosted.org/packages/93/63/c2b91f7482bf8e5b7166dba6558287d906587f269158b8fad1146031fdc3/pydantic-1.10.11-cp311-cp311-macosx_11_0_arm64.whl.metadata\n",
      "  Downloading pydantic-1.10.11-cp311-cp311-macosx_11_0_arm64.whl.metadata (148 kB)\n",
      "\u001b[2K     \u001b[90m━━━━━━━━━━━━━━━━━━━━━━━━━━━━━━━━━━━━━━━\u001b[0m \u001b[32m149.0/149.0 kB\u001b[0m \u001b[31m4.9 MB/s\u001b[0m eta \u001b[36m0:00:00\u001b[0m\n",
      "\u001b[?25hRequirement already satisfied: typing-extensions>=4.2.0 in /Users/gunik/anaconda3/lib/python3.11/site-packages (from pydantic==1.10.11) (4.12.2)\n",
      "Downloading pydantic-1.10.11-cp311-cp311-macosx_11_0_arm64.whl (2.5 MB)\n",
      "\u001b[2K   \u001b[90m━━━━━━━━━━━━━━━━━━━━━━━━━━━━━━━━━━━━━━━━\u001b[0m \u001b[32m2.5/2.5 MB\u001b[0m \u001b[31m7.8 MB/s\u001b[0m eta \u001b[36m0:00:00\u001b[0ma \u001b[36m0:00:01\u001b[0mm\n",
      "\u001b[?25h\u001b[33mDEPRECATION: textract 1.6.5 has a non-standard dependency specifier extract-msg<=0.29.*. pip 23.3 will enforce this behaviour change. A possible replacement is to upgrade to a newer version of textract or contact the author to suggest that they release a version with a conforming dependency specifiers. Discussion can be found at https://github.com/pypa/pip/issues/12063\u001b[0m\u001b[33m\n",
      "\u001b[0mInstalling collected packages: pydantic\n",
      "  Attempting uninstall: pydantic\n",
      "    Found existing installation: pydantic 2.10.3\n",
      "    Uninstalling pydantic-2.10.3:\n",
      "      Successfully uninstalled pydantic-2.10.3\n",
      "\u001b[31mERROR: pip's dependency resolver does not currently take into account all the packages that are installed. This behaviour is the source of the following dependency conflicts.\n",
      "langchain-core 0.3.18 requires langsmith<0.2.0,>=0.1.125, but you have langsmith 0.2.2 which is incompatible.\n",
      "langchain-core 0.3.18 requires pydantic<3.0.0,>=2.5.2; python_full_version < \"3.12.4\", but you have pydantic 1.10.11 which is incompatible.\n",
      "pydantic-settings 2.6.1 requires pydantic>=2.7.0, but you have pydantic 1.10.11 which is incompatible.\n",
      "alpaca-py 0.20.3 requires pydantic<3.0.0,>=2.0.3, but you have pydantic 1.10.11 which is incompatible.\n",
      "en-core-sci-md 0.5.0 requires spacy<3.3.0,>=3.2.3, but you have spacy 3.7.5 which is incompatible.\n",
      "en-core-med7-trf 3.4.2.1 requires spacy<3.5.0,>=3.4.2, but you have spacy 3.7.5 which is incompatible.\n",
      "en-core-med7-trf 3.4.2.1 requires spacy-transformers<1.2.0,>=1.1.6, but you have spacy-transformers 1.3.5 which is incompatible.\n",
      "langchain 0.3.7 requires langsmith<0.2.0,>=0.1.17, but you have langsmith 0.2.2 which is incompatible.\n",
      "langchain 0.3.7 requires pydantic<3.0.0,>=2.7.4, but you have pydantic 1.10.11 which is incompatible.\u001b[0m\u001b[31m\n",
      "\u001b[0mSuccessfully installed pydantic-1.10.11\n"
     ]
    }
   ],
   "source": [
    "# !pip install pydantic==1.10.11\n",
    "\n"
   ]
  },
  {
   "cell_type": "code",
   "execution_count": null,
   "metadata": {},
   "outputs": [
    {
     "name": "stderr",
     "output_type": "stream",
     "text": [
      "/Users/gunik/anaconda3/lib/python3.11/site-packages/langsmith/client.py:261: LangSmithMissingAPIKeyWarning: API key must be provided when using hosted LangSmith API\n",
      "  warnings.warn(\n"
     ]
    }
   ],
   "source": [
    "# prompt = hub.pull(\"hwchase17/openai-tools-agent\")"
   ]
  },
  {
   "cell_type": "code",
   "execution_count": null,
   "metadata": {},
   "outputs": [],
   "source": [
    "# agent = create_tool_calling_agent(\n",
    "#     llm=llm,  # Language model to use\n",
    "#     tools=tools,  # List of tools available to the agent\n",
    "#     prompt=prompt,  # Prompt template to guide the agent's responses\n",
    "# )"
   ]
  },
  {
   "cell_type": "code",
   "execution_count": null,
   "metadata": {},
   "outputs": [],
   "source": [
    "# agent_executor = AgentExecutor.from_agent_and_tools(\n",
    "#     agent=agent,  # The agent to execute\n",
    "#     tools=tools,  # List of tools available to the agent\n",
    "#     verbose=True,  # Enable verbose logging\n",
    "#     handle_parsing_errors=True,  # Handle parsing errors gracefully\n",
    "# )"
   ]
  },
  {
   "cell_type": "code",
   "execution_count": null,
   "metadata": {},
   "outputs": [
    {
     "name": "stdout",
     "output_type": "stream",
     "text": [
      "\n",
      "\n",
      "\u001b[1m> Entering new AgentExecutor chain...\u001b[0m\n",
      "\u001b[32;1m\u001b[1;3m\n",
      "Invoking: `Extract_Tool` with `{'a': 'Apple', 'b': 'Net Sales', 'c': '2019', 'd': '2023'}`\n",
      "\n",
      "\n",
      "\u001b[0m\u001b[36;1m\u001b[1;3m([260174, 274515, 365817, 394328, 383285], [2019, 2020, 2021, 2022, 2023])\u001b[0m\u001b[32;1m\u001b[1;3mThe net sales of Apple from 2019 to 2023 are as follows:\n",
      "\n",
      "- 2019: $260,174 million\n",
      "- 2020: $274,515 million\n",
      "- 2021: $365,817 million\n",
      "- 2022: $394,328 million\n",
      "- 2023: $383,285 million\u001b[0m\n",
      "\n",
      "\u001b[1m> Finished chain.\u001b[0m\n"
     ]
    }
   ],
   "source": [
    "# response = agent_executor.invoke({\"input\": \" extract net sales of Apple 2019 to 2023 \"})"
   ]
  },
  {
   "cell_type": "code",
   "execution_count": null,
   "metadata": {},
   "outputs": [
    {
     "name": "stdout",
     "output_type": "stream",
     "text": [
      "\n",
      "\n",
      "\u001b[1m> Entering new AgentExecutor chain...\u001b[0m\n",
      "\u001b[32;1m\u001b[1;3m\n",
      "Invoking: `Extract_Tool` with `{'a': 'Apple', 'b': 'Net Sales', 'c': '2015', 'd': '2022'}`\n",
      "\n",
      "\n",
      "\u001b[0m\u001b[36;1m\u001b[1;3m([233715, 215639, 229234, 265595, 260174, 274515, 365817, 394328], [2015, 2016, 2017, 2018, 2019, 2020, 2021, 2022])\u001b[0m\u001b[32;1m\u001b[1;3m\n",
      "Invoking: `Growth_Tool` with `{'sales_data': [233715, 215639, 229234, 265595, 260174, 274515, 365817, 394328], 'year_data': [2015, 2016, 2017, 2018, 2019, 2020, 2021, 2022]}`\n",
      "\n",
      "\n",
      "\u001b[0m\u001b[33;1m\u001b[1;3m[-7.734206191301371, 6.304518199398068, 15.861957650261305, -2.041077580526742, 5.512080376978483, 33.25938473307469, 7.7937876041846055]\u001b[0m\u001b[32;1m\u001b[1;3mHere are some insights on the sales growth of Apple from 2015 to 2022:\n",
      "\n",
      "1. **2015 to 2016**: There was a decline in sales, with a year-on-year (YoY) growth rate of -7.73%. This indicates a decrease in net sales for Apple in 2016 compared to 2015.\n",
      "\n",
      "2. **2016 to 2017**: Apple saw a rebound with a YoY growth rate of 6.30%. This suggests a recovery in sales after the decline in the previous year.\n",
      "\n",
      "3. **2017 to 2018**: The growth continued with a significant increase of 15.86%, showing strong sales performance.\n",
      "\n",
      "4. **2018 to 2019**: There was a slight decrease in sales with a YoY growth rate of -2.04%, indicating a minor drop in sales.\n",
      "\n",
      "5. **2019 to 2020**: Sales picked up again with a YoY growth rate of 5.51%, suggesting a positive trend despite the challenges of 2020.\n",
      "\n",
      "6. **2020 to 2021**: Apple experienced a substantial increase in sales, with a YoY growth rate of 33.26%, reflecting strong demand and successful product launches.\n",
      "\n",
      "7. **2021 to 2022**: The growth continued with a YoY increase of 7.79%, indicating sustained sales momentum.\n",
      "\n",
      "Overall, Apple's sales growth has seen fluctuations over the years, with significant growth in recent years, particularly in 2021.\u001b[0m\n",
      "\n",
      "\u001b[1m> Finished chain.\u001b[0m\n"
     ]
    }
   ],
   "source": [
    "# response = agent_executor.invoke({\"input\": \"generate some insights of sales growth of apple\"})"
   ]
  },
  {
   "cell_type": "code",
   "execution_count": null,
   "metadata": {},
   "outputs": [
    {
     "name": "stdout",
     "output_type": "stream",
     "text": [
      "{'input': 'give me insights on sales growth from 2021 to 2024 for apple', 'output': \"Here are the insights on Apple's sales growth from 2021 to 2024:\\n\\n- **2021 to 2022**: Apple experienced a growth in net sales of approximately **7.79%**.\\n- **2022 to 2023**: There was a decline in net sales by about **2.80%**.\\n- **2023 to 2024**: Sales increased slightly with a growth of around **2.02%**.\\n\\nOverall, Apple's net sales showed fluctuations over these years, with a notable growth in 2022 followed by a slight decline in 2023 and a small recovery in 2024.\"}\n"
     ]
    }
   ],
   "source": [
    "# print(response)"
   ]
  },
  {
   "cell_type": "code",
   "execution_count": null,
   "metadata": {},
   "outputs": [],
   "source": []
  }
 ],
 "metadata": {
  "kernelspec": {
   "display_name": "base",
   "language": "python",
   "name": "python3"
  },
  "language_info": {
   "codemirror_mode": {
    "name": "ipython",
    "version": 3
   },
   "file_extension": ".py",
   "mimetype": "text/x-python",
   "name": "python",
   "nbconvert_exporter": "python",
   "pygments_lexer": "ipython3",
   "version": "3.11.5"
  }
 },
 "nbformat": 4,
 "nbformat_minor": 2
}
